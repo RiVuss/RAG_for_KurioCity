{
 "cells": [
  {
   "cell_type": "code",
   "execution_count": 1,
   "metadata": {},
   "outputs": [
    {
     "name": "stderr",
     "output_type": "stream",
     "text": [
      "c:\\Users\\user1\\anaconda3\\envs\\RAGLLMs\\Lib\\site-packages\\tqdm\\auto.py:21: TqdmWarning: IProgress not found. Please update jupyter and ipywidgets. See https://ipywidgets.readthedocs.io/en/stable/user_install.html\n",
      "  from .autonotebook import tqdm as notebook_tqdm\n"
     ]
    }
   ],
   "source": [
    "from RAG_system_A import RAGSystemA"
   ]
  },
  {
   "cell_type": "code",
   "execution_count": 2,
   "metadata": {},
   "outputs": [
    {
     "name": "stdout",
     "output_type": "stream",
     "text": [
      "RAGSystemA initialized and ready.\n"
     ]
    }
   ],
   "source": [
    "# File paths\n",
    "index_path = \"embeddings/all-MiniLM-L6-v2_faiss_index.index\"\n",
    "embedding_model_name = \"sentence-transformers/all-MiniLM-L6-v2\"\n",
    "gemini_token_file = \"API_tokens/gemini.txt\"\n",
    "\n",
    "# Initialize the system\n",
    "rag_system = RAGSystemA(index_path=index_path, embedding_model_name=embedding_model_name, gemini_token_file=gemini_token_file)\n"
   ]
  },
  {
   "cell_type": "code",
   "execution_count": 3,
   "metadata": {},
   "outputs": [
    {
     "name": "stdout",
     "output_type": "stream",
     "text": [
      "\n",
      "Locations Data:\n",
      "{'title': 'Rotterdam Centrum', 'main_category': 'city', 'subcategories': 'region, unique architecture', 'latitude': np.float64(51.91793055555555), 'longitude': np.float64(4.477872222222223), 'generated_text': \"Rotterdam Centrum: A City Reborn\\n\\nLet's explore the heart of Rotterdam, a city dramatically reshaped by its history.  Its current form is the result of several key events.  Firstly, the city's historical development, culminating in the creation of the Stadsdriehoek, a significant triangular area.  Secondly, the ambitious Water Project, including the construction of the Westersingel canal, significantly altered the city's landscape. Then, the devastating bombing of 1940, which destroyed most of t\"}\n",
      "{'title': 'Pannekoekstraat 46-48', 'main_category': 'building', 'subcategories': 'unique architecture, history', 'latitude': np.float64(51.92348888888888), 'longitude': np.float64(4.4879694444444445), 'generated_text': \"This building at 46-48 Pannekoekstraat is more than just offices and apartments; it's a piece of Rotterdam's history.  Constructed between 1951 and 1953, it stands as a testament to the city's remarkable rebuilding after the devastating bombing of 1940.\\n\\nThe initial plans for Rotterdam's reconstruction, drafted just days after the bombing, envisioned a return to traditional architecture.  This building reflects that early vision.  Brick facades, windows with characteristic mullions, decorative e\"}\n",
      "{'title': 'Up:Town', 'main_category': 'skyscraper', 'subcategories': 'unique architecture, city', 'latitude': np.float64(51.916575), 'longitude': np.float64(4.486402777777778), 'generated_text': \"Let's explore the Up:Town building, a striking addition to Rotterdam's skyline.  Standing at 107 meters tall, it's a significant structure on the Wijnhaveneiland.  Completed in late 2018,  this impressive building boasts 34 floors, housing a mix of rental and ownership apartments.  The top eight floors offer luxury apartments for purchase, while the rest are available for rent, providing a variety of living options within this modern high-rise.  Its design seamlessly blends residential space wit\"}\n",
      "{'title': 'Kerk van het Apostolisch Genootschap (Groningen)', 'main_category': 'building', 'subcategories': 'unique architecture, religion', 'latitude': np.float64(53.19251666666666), 'longitude': np.float64(6.569947222222222), 'generated_text': 'This building, a Place of Assembly for the Apostolic Society, has a fascinating history.  Originally constructed in 1973, it underwent a major renovation and expansion in 2003, thanks to the Rotterdam-based architectural firm MK Architects. The transformation significantly altered the original structure, resulting in the building you see today. The design reflects the architectural styles prevalent at the time of the renovation, showcasing a blend of modern and functional elements suitable for t'}\n",
      "{'title': 'Elevatorhuis', 'main_category': 'building', 'subcategories': 'unique architecture, art', 'latitude': np.float64(51.907688888888885), 'longitude': np.float64(4.476897222222222), 'generated_text': \"This building, known as the Elevator House, is a fascinating example of Rotterdam architecture.  Commissioned by the Grain Elevator Company, it was designed by architect Michiel Brinkman. The building's exterior is striking. Notice the tiled panel by Rotterdam artist Bernard Richters at the top of the facade.  It beautifully depicts a ship being unloaded by steam cranes, a clear reference to the building's original function. The symmetrical facade, with its classicist design, features a main ent\"}\n",
      "\n",
      "Generated Response:\n",
      "response:\n",
      "GenerateContentResponse(\n",
      "    done=True,\n",
      "    iterator=None,\n",
      "    result=protos.GenerateContentResponse({\n",
      "      \"candidates\": [\n",
      "        {\n",
      "          \"content\": {\n",
      "            \"parts\": [\n",
      "              {\n",
      "                \"text\": \"This audio guide explores several examples of Rotterdam's architecture, showcasing the city's rebuilding after World War II and its embrace of modern design.  You'll learn about the post-war reconstruction reflected in a building on Pannekoekstraat,  the striking modern Up:Town skyscraper, and the Elevatorhuis, a building with a classicist facade and interesting historical context. While the Kerk van het Apostolisch Genootschap (in Groningen, not Rotterdam) is included, it features a renovation by a Rotterdam firm. The tour also provides broader context with an overview of Rotterdam Centrum and its development.\\n\"\n",
      "              }\n",
      "            ],\n",
      "            \"role\": \"model\"\n",
      "          },\n",
      "          \"finish_reason\": \"STOP\",\n",
      "          \"avg_logprobs\": -0.2754457842919134\n",
      "        }\n",
      "      ],\n",
      "      \"usage_metadata\": {\n",
      "        \"prompt_token_count\": 710,\n",
      "        \"candidates_token_count\": 124,\n",
      "        \"total_token_count\": 834\n",
      "      },\n",
      "      \"model_version\": \"gemini-1.5-flash\"\n",
      "    }),\n",
      ")\n",
      "\n",
      "Performance Metrics:\n",
      "Retrieval Time: 0.02 seconds\n",
      "Generation Time: 1.16 seconds\n",
      "Total Time: 1.42 seconds\n",
      "Total Tokens Used: 834\n",
      "Prompt Tokens Used: 710\n"
     ]
    }
   ],
   "source": [
    "# Query the system\n",
    "user_query = \"modernist architecture in Rotterdam\"\n",
    "max_text = 500\n",
    "top_k = 5\n",
    "\n",
    "result = rag_system.query(user_query=user_query, max_text=max_text, top_k=top_k)\n",
    "\n",
    "print(\"\\nLocations Data:\")\n",
    "for location in result[\"locations\"]:\n",
    "    print(location)\n",
    "\n",
    "print(\"\\nGenerated Response:\")\n",
    "print(result[\"response\"])\n",
    "\n",
    "print(\"\\nPerformance Metrics:\")\n",
    "print(f\"Retrieval Time: {result['retrieval_time']:.2f} seconds\")\n",
    "print(f\"Generation Time: {result['generation_time']:.2f} seconds\")\n",
    "print(f\"Total Time: {result['total_time']:.2f} seconds\")\n",
    "print(f\"Total Tokens Used: {result['total_tokens']}\")\n",
    "print(f\"Prompt Tokens Used: {result['prompt_tokens']}\")\n"
   ]
  },
  {
   "cell_type": "code",
   "execution_count": 4,
   "metadata": {},
   "outputs": [
    {
     "name": "stdout",
     "output_type": "stream",
     "text": [
      "RAGSystemA initialized and ready.\n"
     ]
    }
   ],
   "source": [
    "# File paths\n",
    "index_path = \"embeddings/all-mpnet-base-v2_faiss_index.index\"\n",
    "embedding_model_name = \"sentence-transformers/all-mpnet-base-v2\"\n",
    "gemini_token_file = \"API_tokens/gemini.txt\"\n",
    "\n",
    "# Initialize the system\n",
    "rag_system = RAGSystemA(index_path=index_path, embedding_model_name=embedding_model_name, gemini_token_file=gemini_token_file)\n"
   ]
  },
  {
   "cell_type": "code",
   "execution_count": 5,
   "metadata": {},
   "outputs": [
    {
     "name": "stdout",
     "output_type": "stream",
     "text": [
      "\n",
      "Locations Data:\n",
      "{'title': 'Joliotflat (torenflat)', 'main_category': 'skyscraper', 'subcategories': 'unique architecture, neighbourhood', 'latitude': np.float64(51.96245), 'longitude': np.float64(4.5336694444444445), 'generated_text': \"Welcome to the Joliotflat, a prominent high-rise building in the Ommoord district of Rotterdam.  Constructed in 1967, this 62-meter tall building stands as a testament to the architectural style of its time.  With its 20 floors, it's instantly recognizable as one of the many high-rises designed by architect J. Nuts, sharing a similar aesthetic with other buildings in this area. Interestingly, there’s another building nearby that shares the same name, though it's of a different architectural styl\"}\n",
      "{'title': 'Oude Binnenweg 53 Rotterdam', 'main_category': 'building', 'subcategories': 'unique architecture, house', 'latitude': np.float64(51.91789722222222), 'longitude': np.float64(4.476127777777778), 'generated_text': \"This building at Oude Binnenweg 53 is a fascinating example of post-war reconstruction in Rotterdam.  Constructed between 1952 and 1954, it stands out because it was built in a traditional style, unlike much of the city's modern architecture.\\n\\nFollowing the devastating bombing of Rotterdam in 1940, the city center lay in ruins.  Initial reconstruction plans favored a traditional approach, focusing on brick facades, paned windows, decorative elements, and pitched roofs, echoing pre-war styles. Th\"}\n",
      "{'title': 'Parklaanflat', 'main_category': 'building', 'subcategories': 'unique architecture, house', 'latitude': np.float64(51.9075), 'longitude': np.float64(4.475555555555555), 'generated_text': 'This building, located at the corner of Parklaan and Parkstraat, is a fascinating example of early modernist architecture in Rotterdam.  Constructed in 1933 by Willem van Tijen, in collaboration with other notable architects, it represents a pioneering approach to residential design.  \\n\\nDesigned in the spirit of the \"Neues Bauen\" movement, this seven-story building was a luxury experiment, a precursor to a larger project, the Bergpolderflat.  Each of its six apartments occupied an entire floor, '}\n",
      "{'title': 'Bertrand Russellflat', 'main_category': 'skyscraper', 'subcategories': 'unique architecture, housing', 'latitude': np.float64(51.962725000000006), 'longitude': np.float64(4.548202777777778), 'generated_text': \"Welcome to the Bertrand Russell high-rise, a striking example of 1970s architecture in Rotterdam's Ommoord district.  Standing tall at 62 meters, this building, designed by architect J. Nuts, offers a unique view into the city's social housing history.  With its 20 floors, it provided homes for residents aged 55 and over.  Located conveniently close to the Albert Schweitzer park, the building is a quiet haven in its bustling surroundings.  This building offers a fascinating glimpse into the arch\"}\n",
      "{'title': 'The Red Apple', 'main_category': 'skyscraper', 'subcategories': 'unique architecture, city', 'latitude': np.float64(51.91722222222222), 'longitude': np.float64(4.489166666666667), 'generated_text': \"Let's explore The Red Apple, a striking multifunctional building in Rotterdam's city center, located on the Wijnhaveneiland in the Maritime District.  Completed in 2009, this complex is instantly recognizable for its distinctive design.\\n\\nThe building comprises a residential tower, a separate block, and an underground parking garage. The tower itself is a noteworthy 128 meters tall, boasting 40 floors and 152 apartments. This makes it one of the tallest buildings in Rotterdam.  The adjacent block\"}\n",
      "\n",
      "Generated Response:\n",
      "response:\n",
      "GenerateContentResponse(\n",
      "    done=True,\n",
      "    iterator=None,\n",
      "    result=protos.GenerateContentResponse({\n",
      "      \"candidates\": [\n",
      "        {\n",
      "          \"content\": {\n",
      "            \"parts\": [\n",
      "              {\n",
      "                \"text\": \"This audio guide explores diverse examples of modernist architecture in Rotterdam, showcasing the city's architectural evolution. You'll visit the Joliotflat and Bertrand Russellflat, high-rises representing different eras of social housing design in the Ommoord district.  For a contrast, you'll then explore the Parklaanflat, an early modernist residential building exemplifying the \\\"Neues Bauen\\\" movement. The tour also includes a look at a post-war reconstruction building on Oude Binnenweg 53, highlighting a departure from modern styles. Finally, you'll see The Red Apple, a contemporary multifunctional skyscraper.  The tour thus provides a comprehensive overview of Rotterdam's architectural landscape, from early modernism to contemporary high-rises.\\n\"\n",
      "              }\n",
      "            ],\n",
      "            \"role\": \"model\"\n",
      "          },\n",
      "          \"finish_reason\": \"STOP\",\n",
      "          \"avg_logprobs\": -0.2721368916829427\n",
      "        }\n",
      "      ],\n",
      "      \"usage_metadata\": {\n",
      "        \"prompt_token_count\": 727,\n",
      "        \"candidates_token_count\": 150,\n",
      "        \"total_token_count\": 877\n",
      "      },\n",
      "      \"model_version\": \"gemini-1.5-flash\"\n",
      "    }),\n",
      ")\n",
      "\n",
      "Performance Metrics:\n",
      "Retrieval Time: 0.01 seconds\n",
      "Generation Time: 1.34 seconds\n",
      "Total Time: 1.57 seconds\n",
      "Total Tokens Used: 877\n",
      "Prompt Tokens Used: 727\n"
     ]
    }
   ],
   "source": [
    "# Query the system\n",
    "user_query = \"modernist architecture in Rotterdam\"\n",
    "max_text = 500\n",
    "top_k = 5\n",
    "\n",
    "result = rag_system.query(user_query=user_query, max_text=max_text, top_k=top_k)\n",
    "\n",
    "print(\"\\nLocations Data:\")\n",
    "for location in result[\"locations\"]:\n",
    "    print(location)\n",
    "\n",
    "print(\"\\nGenerated Response:\")\n",
    "print(result[\"response\"])\n",
    "\n",
    "print(\"\\nPerformance Metrics:\")\n",
    "print(f\"Retrieval Time: {result['retrieval_time']:.2f} seconds\")\n",
    "print(f\"Generation Time: {result['generation_time']:.2f} seconds\")\n",
    "print(f\"Total Time: {result['total_time']:.2f} seconds\")\n",
    "print(f\"Total Tokens Used: {result['total_tokens']}\")\n",
    "print(f\"Prompt Tokens Used: {result['prompt_tokens']}\")\n"
   ]
  }
 ],
 "metadata": {
  "kernelspec": {
   "display_name": "RAGLLMs",
   "language": "python",
   "name": "python3"
  },
  "language_info": {
   "codemirror_mode": {
    "name": "ipython",
    "version": 3
   },
   "file_extension": ".py",
   "mimetype": "text/x-python",
   "name": "python",
   "nbconvert_exporter": "python",
   "pygments_lexer": "ipython3",
   "version": "3.11.11"
  }
 },
 "nbformat": 4,
 "nbformat_minor": 2
}
