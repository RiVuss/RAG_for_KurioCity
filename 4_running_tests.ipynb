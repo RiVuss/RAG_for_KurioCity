{
 "cells": [
  {
   "cell_type": "code",
   "execution_count": 21,
   "metadata": {},
   "outputs": [],
   "source": [
    "from rag_objects.RAG_system_A import RAGSystemA\n",
    "from rag_objects.RAG_system_B import RAGSystemB\n",
    "from rag_objects.RAG_system_C import RAGSystemC"
   ]
  },
  {
   "cell_type": "code",
   "execution_count": 24,
   "metadata": {},
   "outputs": [
    {
     "name": "stdout",
     "output_type": "stream",
     "text": [
      "RAGSystemB initialized and ready.\n"
     ]
    }
   ],
   "source": [
    "# File paths\n",
    "index_path = \"embeddings/stella_en_1_5B_v5_embeddings_faiss_index.index\"\n",
    "embedding_model_name = \"NovaSearch/stella_en_1.5B_v5\"\n",
    "gemini_token_file = \"API_tokens/gemini.txt\"\n",
    "\n",
    "# Initialize the system\n",
    "rag_system = RAGSystemC(index_path=index_path, embedding_model_name=embedding_model_name, gemini_token_file=gemini_token_file)\n"
   ]
  },
  {
   "cell_type": "code",
   "execution_count": 25,
   "metadata": {},
   "outputs": [
    {
     "data": {
      "text/plain": [
       "{'locations': [{'title': 'B-PROUD',\n",
       "   'main_category': 'skyscraper',\n",
       "   'generated_text': \"This is B-Proud, a striking addition to The Hague's skyline.  Imagine two towers, each reaching approximately 140 meters into the sky. That's quite im\",\n",
       "   'latitude': np.float64(52.06971111111111),\n",
       "   'longitude': np.float64(4.335563888888888)},\n",
       "  {'title': 'Zendmast Bezuidenhout',\n",
       "   'main_category': 'skyscraper',\n",
       "   'generated_text': 'This structure, built in 1965, initially stood at 100 meters tall, but was later extended to 133 meters.  For 33 years, it held the title of the talle',\n",
       "   'latitude': np.float64(52.08069444444445),\n",
       "   'longitude': np.float64(4.335897222222222)},\n",
       "  {'title': 'De Kroon (woontoren)',\n",
       "   'main_category': 'skyscraper',\n",
       "   'generated_text': \"Let's explore the De Kroon residential tower.  Located in The Hague's Wijnhavenkwartier, this striking building stands on the former site of De Zwarte\",\n",
       "   'latitude': np.float64(52.07897777777778),\n",
       "   'longitude': np.float64(4.321361111111111)},\n",
       "  {'title': 'De Haagsche Zwaan',\n",
       "   'main_category': 'skyscraper',\n",
       "   'generated_text': 'Welcome to the Haagsche Zwaan, a striking office building located in The Hague.  This building, designed by ZZDP Architects and developed by OVG Proje',\n",
       "   'latitude': np.float64(52.07777777777778),\n",
       "   'longitude': np.float64(4.334444444444444)},\n",
       "  {'title': 'Prinsenhof (Den Haag)',\n",
       "   'main_category': 'skyscraper',\n",
       "   'generated_text': 'The Prinsenhof complex, located in the Beatrixkwartier district of The Hague, is a striking sight on the city skyline.  Its tallest tower, exceeding 1',\n",
       "   'latitude': np.float64(52.07944444444445),\n",
       "   'longitude': np.float64(4.336388888888888)},\n",
       "  {'title': 'Hoftoren',\n",
       "   'main_category': 'skyscraper',\n",
       "   'generated_text': 'This imposing structure, standing at 142 meters, is the third tallest building in The Hague.  Located next to The Hague Central Station, it serves as ',\n",
       "   'latitude': np.float64(52.08055555555556),\n",
       "   'longitude': np.float64(4.321666666666666)},\n",
       "  {'title': '12-verdiepingenhuis',\n",
       "   'main_category': 'skyscraper',\n",
       "   'generated_text': 'This twelve-story building, nicknamed \"The Skyscraper,\" is a residential building designed by J.F. Staal and completed in 1932.  It holds a prominent ',\n",
       "   'latitude': np.float64(52.345925),\n",
       "   'longitude': np.float64(4.902630555555556)},\n",
       "  {'title': 'StadsHeer',\n",
       "   'main_category': 'skyscraper',\n",
       "   'generated_text': 'The StadsHeer building, located in the Haestrechtkwartier district of Tilburg, is a striking example of modern architecture. Standing at 101 meters ta',\n",
       "   'latitude': np.float64(51.560325),\n",
       "   'longitude': np.float64(5.078361111111111)}],\n",
       " 'response': '',\n",
       " 'query_enhancer_time': 5.1780714000051375,\n",
       " 'enhancer_response': 'cool skyscrapers, skyscrapers the Hague,  high-rise buildings,  tall buildings, impressive architecture, modern architecture,  the Hague, Den Haag, Netherlands',\n",
       " 'enhancer_total_tokens': 117,\n",
       " 'enhancer_prompt_tokens': 85,\n",
       " 'query_embedding_time': 1.1132455000188202,\n",
       " 'retrieval_time': 0.013770999998087063,\n",
       " 'summary_generation_time': 0,\n",
       " 'summary_total_tokens': 0,\n",
       " 'summary_prompt_tokens': 0}"
      ]
     },
     "execution_count": 25,
     "metadata": {},
     "output_type": "execute_result"
    }
   ],
   "source": [
    "# Query the system\n",
    "user_query = \"What are cool skyscrapers in the Hague\"\n",
    "top_k = 8\n",
    "\n",
    "result = rag_system.query(user_query=user_query, top_k=top_k, summarize=False)\n",
    "\n",
    "# print(\"\\nLocations Data:\")\n",
    "# for location in result[\"locations\"]:\n",
    "#     print(location)\n",
    "\n",
    "# print(\"\\nGenerated Response:\")\n",
    "# print(result[\"response\"])\n",
    "\n",
    "# print(\"\\nPerformance Metrics:\")\n",
    "# print(f\"Retrieval Time: {result['retrieval_time']:.4f} seconds\")\n",
    "# print(f\"Generation Time: {result['generation_time']:.4f} seconds\")\n",
    "# print(f\"Total Time: {result['total_time']:.4f} seconds\")\n",
    "# print(f\"Total Tokens Used: {result['total_tokens']}\")\n",
    "# print(f\"Prompt Tokens Used: {result['prompt_tokens']}\")\n",
    "result\n"
   ]
  },
  {
   "cell_type": "code",
   "execution_count": 19,
   "metadata": {},
   "outputs": [
    {
     "name": "stdout",
     "output_type": "stream",
     "text": [
      "RAGSystemB initialized and ready.\n"
     ]
    }
   ],
   "source": [
    "# File paths\n",
    "index_path = \"embeddings/all-mpnet-base-v2_faiss_index.index\"\n",
    "embedding_model_name = \"sentence-transformers/all-mpnet-base-v2\"\n",
    "gemini_token_file = \"API_tokens/gemini.txt\"\n",
    "\n",
    "# Initialize the system\n",
    "rag_system = RAGSystemB(index_path=index_path, embedding_model_name=embedding_model_name, gemini_token_file=gemini_token_file)\n"
   ]
  },
  {
   "cell_type": "code",
   "execution_count": 20,
   "metadata": {},
   "outputs": [
    {
     "data": {
      "text/plain": [
       "{'locations': [{'title': 'Koningstraat (Haarlem)',\n",
       "   'main_category': 'street',\n",
       "   'generated_text': \"Let's explore the Koningstraat, a charming street in Haarlem's city center.  It forms a vital link between the Grote Markt, the main square, and the G\",\n",
       "   'latitude': np.float64(52.38033611111111),\n",
       "   'longitude': np.float64(4.634022222222222)},\n",
       "  {'title': 'Haarlem raccordement VAM',\n",
       "   'main_category': 'station',\n",
       "   'generated_text': \"This Haarlem rail connection, or Hlmvam for short, is located just east of Haarlem station, on the Amsterdam-Haarlem line.  It's a fascinating example\",\n",
       "   'latitude': np.float64(52.382777777777775),\n",
       "   'longitude': np.float64(4.658888888888889)},\n",
       "  {'title': 'Station Haarlem Bolwerk',\n",
       "   'main_category': 'station',\n",
       "   'generated_text': \"This location holds a fascinating piece of Haarlem's railway history.  Imagine this spot, near the vibrant Kinderhuissingel, where, from 1881 to 1886,\",\n",
       "   'latitude': np.float64(52.388305555555554),\n",
       "   'longitude': np.float64(4.632469444444445)},\n",
       "  {'title': 'Kleine Houtstraat',\n",
       "   'main_category': 'street',\n",
       "   'generated_text': \"Let's explore the Kleine Houtstraat, a charming shopping street nestled in Haarlem's city center.  It runs south from its intersection with the Anegan\",\n",
       "   'latitude': np.float64(52.37791111111111),\n",
       "   'longitude': np.float64(4.635847222222222)},\n",
       "  {'title': 'Haarlem',\n",
       "   'main_category': 'city',\n",
       "   'generated_text': 'Haarlem, the capital of Noord-Holland, is a city with a rich history, nestled on the Spaarne River.  First mentioned in a 10th-century document as \"Ha',\n",
       "   'latitude': np.float64(52.38027777777778),\n",
       "   'longitude': np.float64(4.640555555555555)},\n",
       "  {'title': 'Raaks (straat)',\n",
       "   'main_category': 'street',\n",
       "   'generated_text': \"Let's explore the Raaks in Haarlem. This street, once a waterway, holds a fascinating history.  Originally part of the Haarlemse Beek, a stream, it wa\",\n",
       "   'latitude': np.float64(52.38205555555555),\n",
       "   'longitude': np.float64(4.630722222222222)},\n",
       "  {'title': 'Stationsplein (Haarlem)',\n",
       "   'main_category': 'square',\n",
       "   'generated_text': \"Let's explore Haarlem's Stationsplein. This square and street are located at the northern edge of Haarlem's city center, nestled between Kruisweg and \",\n",
       "   'latitude': np.float64(52.38726666666667),\n",
       "   'longitude': np.float64(4.637574999999999)},\n",
       "  {'title': 'Station Haarlem Spaarnwoude',\n",
       "   'main_category': 'station',\n",
       "   'generated_text': 'This Haarlem Spaarnwoude train station, opened in 1998, is located on the east side of Haarlem, nestled between the Parkwijk and Zuiderpolder neighbou',\n",
       "   'latitude': np.float64(52.38194444444444),\n",
       "   'longitude': np.float64(4.671111111111111)},\n",
       "  {'title': 'Leidsebrug (Haarlem)',\n",
       "   'main_category': 'bridge',\n",
       "   'generated_text': \"Let's explore a fascinating piece of Haarlem's history and architecture. We're standing near a bridge that quietly connects the Raamvest with the Leid\",\n",
       "   'latitude': np.float64(52.37781666666667),\n",
       "   'longitude': np.float64(4.624577777777779)}],\n",
       " 'response': '',\n",
       " 'checker_response': \"['haarlem raccordement vam (station)', 'station haarlem bolwerk (station)', 'station haarlem spaarnwoude (station)', 'koningstraat (haarlem) (street)', 'kleine houtstraat (street)', 'raaks (straat) (street)', 'stationsplein (haarlem) (square)', 'leidsebrug (haarlem) (bridge)']\\n\",\n",
       " 'query_embedding_time': 0.1628437000035774,\n",
       " 'retrieval_time': 0.009493400022620335,\n",
       " 'checker_time': 1.031103700021049,\n",
       " 'summary_generation_time': 0,\n",
       " 'summary_total_tokens': 0,\n",
       " 'summary_prompt_tokens': 0,\n",
       " 'checker_total_tokens': 914,\n",
       " 'checker_prompt_tokens': 833}"
      ]
     },
     "execution_count": 20,
     "metadata": {},
     "output_type": "execute_result"
    }
   ],
   "source": [
    "# Query the system\n",
    "user_query = \"What should a transit nerd see in Haarlem\"\n",
    "top_k = 16\n",
    "\n",
    "result = rag_system.query(user_query=user_query,  top_k=top_k, summarize=False)\n",
    "\n",
    "# print(\"\\nLocations Data:\")\n",
    "# for location in result[\"locations\"]:\n",
    "#     print(location)\n",
    "\n",
    "# print(\"\\nGenerated Response:\")\n",
    "# print(result[\"response\"])\n",
    "\n",
    "# print(\"\\nPerformance Metrics:\")\n",
    "# print(f\"Retrieval Time: {result['retrieval_time']:.2f} seconds\")\n",
    "# print(f\"Generation Time: {result['generation_time']:.2f} seconds\")\n",
    "# print(f\"Total Time: {result['total_time']:.2f} seconds\")\n",
    "# print(f\"Total Tokens Used: {result['total_tokens']}\")\n",
    "# print(f\"Prompt Tokens Used: {result['prompt_tokens']}\")\n",
    "result\n"
   ]
  },
  {
   "cell_type": "code",
   "execution_count": 12,
   "metadata": {},
   "outputs": [],
   "source": [
    "df = pd.read_csv('nl_full_all_columns.csv')"
   ]
  },
  {
   "cell_type": "code",
   "execution_count": 89,
   "metadata": {},
   "outputs": [
    {
     "data": {
      "text/html": [
       "<div>\n",
       "<style scoped>\n",
       "    .dataframe tbody tr th:only-of-type {\n",
       "        vertical-align: middle;\n",
       "    }\n",
       "\n",
       "    .dataframe tbody tr th {\n",
       "        vertical-align: top;\n",
       "    }\n",
       "\n",
       "    .dataframe thead th {\n",
       "        text-align: right;\n",
       "    }\n",
       "</style>\n",
       "<table border=\"1\" class=\"dataframe\">\n",
       "  <thead>\n",
       "    <tr style=\"text-align: right;\">\n",
       "      <th></th>\n",
       "      <th>Unnamed: 0</th>\n",
       "      <th>id</th>\n",
       "      <th>title</th>\n",
       "      <th>type</th>\n",
       "      <th>region</th>\n",
       "      <th>latitude</th>\n",
       "      <th>longitude</th>\n",
       "      <th>clean_text</th>\n",
       "      <th>geohash</th>\n",
       "      <th>country_code</th>\n",
       "      <th>thumbnail_link</th>\n",
       "      <th>thumbnail_file_name</th>\n",
       "      <th>thumbnail_author</th>\n",
       "      <th>thumbnail_license</th>\n",
       "      <th>thumbnail_file_extension</th>\n",
       "      <th>generated_text</th>\n",
       "      <th>category_output</th>\n",
       "      <th>level</th>\n",
       "      <th>main_category</th>\n",
       "      <th>subcategories</th>\n",
       "    </tr>\n",
       "  </thead>\n",
       "  <tbody>\n",
       "    <tr>\n",
       "      <th>6341</th>\n",
       "      <td>6341</td>\n",
       "      <td>549276</td>\n",
       "      <td>Museum De Lakenhal</td>\n",
       "      <td>landmark</td>\n",
       "      <td>NL</td>\n",
       "      <td>52.163056</td>\n",
       "      <td>4.4875</td>\n",
       "      <td>Museum De Lakenhal is sinds 1874 het gemeentel...</td>\n",
       "      <td>u170wpg</td>\n",
       "      <td>NL</td>\n",
       "      <td>https://upload.wikimedia.org/wikipedia/commons...</td>\n",
       "      <td>De_Lakenhal_Leiden.jpg</td>\n",
       "      <td>Michiel1972</td>\n",
       "      <td>CC BY-SA 3.0</td>\n",
       "      <td>jpg</td>\n",
       "      <td>Step into Museum De Lakenhal, Leiden's municip...</td>\n",
       "      <td>[1, museum, [art, history]]\\n</td>\n",
       "      <td>1.0</td>\n",
       "      <td>museum</td>\n",
       "      <td>art, history</td>\n",
       "    </tr>\n",
       "  </tbody>\n",
       "</table>\n",
       "</div>"
      ],
      "text/plain": [
       "      Unnamed: 0      id               title      type region   latitude  \\\n",
       "6341        6341  549276  Museum De Lakenhal  landmark     NL  52.163056   \n",
       "\n",
       "      longitude                                         clean_text  geohash  \\\n",
       "6341     4.4875  Museum De Lakenhal is sinds 1874 het gemeentel...  u170wpg   \n",
       "\n",
       "     country_code                                     thumbnail_link  \\\n",
       "6341           NL  https://upload.wikimedia.org/wikipedia/commons...   \n",
       "\n",
       "         thumbnail_file_name thumbnail_author thumbnail_license  \\\n",
       "6341  De_Lakenhal_Leiden.jpg      Michiel1972      CC BY-SA 3.0   \n",
       "\n",
       "     thumbnail_file_extension  \\\n",
       "6341                      jpg   \n",
       "\n",
       "                                         generated_text  \\\n",
       "6341  Step into Museum De Lakenhal, Leiden's municip...   \n",
       "\n",
       "                    category_output  level main_category subcategories  \n",
       "6341  [1, museum, [art, history]]\\n    1.0        museum  art, history  "
      ]
     },
     "execution_count": 89,
     "metadata": {},
     "output_type": "execute_result"
    }
   ],
   "source": [
    "df[df['title'].str.contains(\"Lakenhal\")]"
   ]
  },
  {
   "cell_type": "markdown",
   "metadata": {},
   "source": [
    "# Testing pipeline\n",
    "## Test definitions"
   ]
  },
  {
   "cell_type": "code",
   "execution_count": 4,
   "metadata": {},
   "outputs": [],
   "source": [
    "import pandas as pd\n",
    "import time\n"
   ]
  },
  {
   "cell_type": "code",
   "execution_count": 27,
   "metadata": {},
   "outputs": [],
   "source": [
    "\n",
    "test_cases = [\n",
    "    {\"user_query\": \"skyscrapers in the Hague\", \"golden_route\": [\"Hoftoren\", \"Het Strijkijzer\", \"De Kroon (woontoren)\",\"Castalia (gebouw)\",\"Zurichtoren\"]},\n",
    "    {\"user_query\": \"What should a museum nerd see in Haarlem\", \"golden_route\": [\"Frans Hals Museum\", \"Verwey Museum Haarlem\", \"Teylers Museum\",\"Het Dolhuys\", \"Archeologisch Museum Haarlem\"]},\n",
    "    {\"user_query\": \"I like metro systems. Which stations are interesting in Amsterdam?\", \"golden_route\": [\"Nieuwmarkt (metrostation)\", \"Rokin (metrostation)\", \"Vijzelgracht (metrostation)\",\"Weesperplein (metrostation)\", \"Noorderpark (metrostation)\"]},\n",
    "    {\"user_query\": \"brutalist architecture Amsterdam\", \"golden_route\": [\"Hoofdgebouw Vrije Universiteit\", \"Leeuwenburg (Amsterdam)\", \"Louwesweg\",\"Kraanspoor\", \"Weteringschans 26-28\"]},\n",
    "    {\"user_query\": \"I want to see the most famous bridges of Amsterdam\", \"golden_route\": [\"Oudekerksbrug\", \"Blauwbrug\", \"Aluminiumbrug\",\"Torensluis\", \"Sint Antoniessluishoogwaterkering\"]},\n",
    "    {\"user_query\": \"the palaces of the Hague\", \"golden_route\": [\"Paleis Kneuterdijk\", \"Paleis Noordeinde\", \"Mauritshuis\",\"Paleis Huis ten Bosch\", \"Vredespaleis\"]},\n",
    "    {\"user_query\": \"What to see in Amsterdam to learn about the jewish heritage\", \"golden_route\": [\"Jodenbuurt (Amsterdam)\", \"Anne Frank Huis\", \"Nationaal Holocaustmuseum\",\"Holocaust Namenmonument\", \"Portugees-Israëlietische Synagoge\"]},\n",
    "    {\"user_query\": \"What should Rembrandt lover see in Leiden?\", \"golden_route\": [\"Latijnse school (Leiden)\", \"Rembrandtbrug\", \"Pieterskerk (Leiden)\",\"Langebrug (Leiden)\", \"Museum De Lakenhal\"]}\n",
    "]\n",
    "# test_cases = [\n",
    "#     {\"user_query\": \"skyscrapers in the Hague\", \"golden_route\": [\"Hoftoren\", \"Het Strijkijzer\", \"De Kroon (woontoren)\",\"Castalia (gebouw)\",\"Zurichtoren\"]},\n",
    "#     {\"user_query\": \"What should a museum nerd see in Haarlem\", \"golden_route\": [\"Frans Hals Museum\", \"Verwey Museum Haarlem\", \"Teylers Museum\",\"Het Dolhuys\", \"Archeologisch Museum Haarlem\"]}\n",
    "# ]\n",
    "\n",
    "embedding_models = {\n",
    "    \"sentence-transformers/all-MiniLM-L6-v2\": \"embeddings/all-MiniLM-L6-v2_faiss_index.index\",\n",
    "    \"sentence-transformers/all-mpnet-base-v2\": \"embeddings/all-mpnet-base-v2_faiss_index.index\",\n",
    "    \"NovaSearch/stella_en_1.5B_v5\" : \"embeddings/stella_en_1_5B_v5_embeddings_faiss_index.index\"\n",
    "}\n",
    "\n",
    "gemini_token_file = \"API_tokens/gemini.txt\"\n",
    "\n",
    "def evaluate_rag_system(rag_system, test_cases, rag_system_name, embedding_model_name):\n",
    "    \"\"\"\n",
    "    Evaluate a RAG system by running multiple test cases and computing retrieval metrics.\n",
    "\n",
    "    Args:\n",
    "        rag_system (RAGSystemA): The RAG system to test.\n",
    "        test_cases (list of dict): Each dict should contain:\n",
    "            - 'user_query': The query string.\n",
    "            - 'golden_route': List of ideal location titles.\n",
    "        rag_system_name (str): Name of the RAG system being tested.\n",
    "        embedding_model_name (str): Name of the embedding model used.\n",
    "\n",
    "    Returns:\n",
    "        pd.DataFrame: DataFrame containing results for all test cases.\n",
    "    \"\"\"\n",
    "    results = []\n",
    "    \n",
    "    for test_case in test_cases:\n",
    "        user_query = test_case[\"user_query\"]\n",
    "        golden_route = test_case[\"golden_route\"]\n",
    "        \n",
    "        # Run query\n",
    "        result = rag_system.query(user_query=user_query, top_k=5)\n",
    "        \n",
    "        # Extract retrieved titles\n",
    "        retrieved_titles = [loc[\"title\"] for loc in result.get(\"locations\", [])]\n",
    "        \n",
    "        # Compute golden route metrics\n",
    "        retrieved_set = set(retrieved_titles)\n",
    "        golden_set = set(golden_route)\n",
    "        common = retrieved_set.intersection(golden_set)\n",
    "        precision = len(common) / len(retrieved_titles) if retrieved_titles else 0\n",
    "        recall = len(common) / len(golden_set) if golden_set else 0\n",
    "        num_retrieved_from_golden = len(common)\n",
    "        \n",
    "        # Store results dynamically including all dictionary keys\n",
    "        result_entry = {\n",
    "            \"rag_system\": rag_system_name,\n",
    "            \"embedding_model\": embedding_model_name,\n",
    "            \"query\": user_query,\n",
    "            \"retrieved_titles\": retrieved_titles,\n",
    "            \"golden_route\": golden_route,\n",
    "            \"precision\": precision,\n",
    "            \"recall\": recall,\n",
    "            \"num_retrieved_from_golden\": num_retrieved_from_golden,\n",
    "        }\n",
    "        \n",
    "        # Add all key-value pairs dynamically\n",
    "        for key, value in result.items():\n",
    "            if key not in result_entry:\n",
    "                result_entry[key] = value\n",
    "        \n",
    "        results.append(result_entry)\n",
    "    \n",
    "    return pd.DataFrame(results)"
   ]
  },
  {
   "cell_type": "markdown",
   "metadata": {},
   "source": [
    "## Running tests\n",
    "### RAG A"
   ]
  },
  {
   "cell_type": "code",
   "execution_count": null,
   "metadata": {},
   "outputs": [
    {
     "name": "stdout",
     "output_type": "stream",
     "text": [
      "Evaluating with embedding model: sentence-transformers/all-MiniLM-L6-v2\n",
      "RAGSystemA initialized and ready.\n",
      "Evaluating with embedding model: sentence-transformers/all-mpnet-base-v2\n",
      "RAGSystemA initialized and ready.\n",
      "Evaluation completed. Results saved to 'rag_results.csv'\n"
     ]
    }
   ],
   "source": [
    "all_results = []\n",
    "\n",
    "for model_name, index_path in embedding_models.items():\n",
    "    print(f\"Evaluating with embedding model: {model_name}\")\n",
    "    \n",
    "    rag_system = RAGSystemA(index_path=index_path, embedding_model_name=model_name, gemini_token_file=gemini_token_file)\n",
    "    \n",
    "    # Run evaluation and collect results\n",
    "    df_results = evaluate_rag_system(rag_system, test_cases, \"RAGSystemA\", model_name)\n",
    "    all_results.append(df_results)\n",
    "\n",
    "# Combine all results into a single DataFrame\n",
    "final_results_df = pd.concat(all_results, ignore_index=True)\n",
    "final_results_df.to_csv(\"A_rag_results.csv\", index=False)\n",
    "\n",
    "print(\"Evaluation completed. Results saved to 'A_rag_results.csv'\")"
   ]
  },
  {
   "cell_type": "code",
   "execution_count": null,
   "metadata": {},
   "outputs": [],
   "source": []
  }
 ],
 "metadata": {
  "kernelspec": {
   "display_name": "RAGLLMs",
   "language": "python",
   "name": "python3"
  },
  "language_info": {
   "codemirror_mode": {
    "name": "ipython",
    "version": 3
   },
   "file_extension": ".py",
   "mimetype": "text/x-python",
   "name": "python",
   "nbconvert_exporter": "python",
   "pygments_lexer": "ipython3",
   "version": "3.11.11"
  }
 },
 "nbformat": 4,
 "nbformat_minor": 2
}
