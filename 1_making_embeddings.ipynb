{
 "cells": [
  {
   "cell_type": "code",
   "execution_count": 4,
   "metadata": {},
   "outputs": [],
   "source": [
    "import pandas as pd\n",
    "import pandas as pd\n",
    "import numpy as np\n",
    "import os"
   ]
  },
  {
   "cell_type": "markdown",
   "metadata": {},
   "source": [
    "# Data loading"
   ]
  },
  {
   "cell_type": "code",
   "execution_count": 5,
   "metadata": {},
   "outputs": [
    {
     "data": {
      "text/html": [
       "<div>\n",
       "<style scoped>\n",
       "    .dataframe tbody tr th:only-of-type {\n",
       "        vertical-align: middle;\n",
       "    }\n",
       "\n",
       "    .dataframe tbody tr th {\n",
       "        vertical-align: top;\n",
       "    }\n",
       "\n",
       "    .dataframe thead th {\n",
       "        text-align: right;\n",
       "    }\n",
       "</style>\n",
       "<table border=\"1\" class=\"dataframe\">\n",
       "  <thead>\n",
       "    <tr style=\"text-align: right;\">\n",
       "      <th></th>\n",
       "      <th>Unnamed: 0</th>\n",
       "      <th>id</th>\n",
       "      <th>title</th>\n",
       "      <th>type</th>\n",
       "      <th>region</th>\n",
       "      <th>latitude</th>\n",
       "      <th>longitude</th>\n",
       "      <th>clean_text</th>\n",
       "      <th>geohash</th>\n",
       "      <th>country_code</th>\n",
       "      <th>thumbnail_link</th>\n",
       "      <th>thumbnail_file_name</th>\n",
       "      <th>thumbnail_author</th>\n",
       "      <th>thumbnail_license</th>\n",
       "      <th>thumbnail_file_extension</th>\n",
       "      <th>generated_text</th>\n",
       "      <th>category_output</th>\n",
       "      <th>level</th>\n",
       "      <th>main_category</th>\n",
       "      <th>subcategories</th>\n",
       "    </tr>\n",
       "  </thead>\n",
       "  <tbody>\n",
       "    <tr>\n",
       "      <th>0</th>\n",
       "      <td>0</td>\n",
       "      <td>72</td>\n",
       "      <td>Arnhem</td>\n",
       "      <td>city</td>\n",
       "      <td>NL</td>\n",
       "      <td>51.983333</td>\n",
       "      <td>5.916667</td>\n",
       "      <td>Arnhem (uitspraak:  of , Arnhems: Ernem) is ee...</td>\n",
       "      <td>u1hpwxk</td>\n",
       "      <td>NL</td>\n",
       "      <td>https://upload.wikimedia.org/wikipedia/commons...</td>\n",
       "      <td>23_april_2016_CS_Arnhem.jpg</td>\n",
       "      <td>Hellendijk81</td>\n",
       "      <td>CC BY-SA 4.0</td>\n",
       "      <td>jpg</td>\n",
       "      <td>Arnhem, the capital of Gelderland, is a city w...</td>\n",
       "      <td>[1, city, [region, history]]\\n</td>\n",
       "      <td>1.0</td>\n",
       "      <td>city</td>\n",
       "      <td>region, history</td>\n",
       "    </tr>\n",
       "    <tr>\n",
       "      <th>1</th>\n",
       "      <td>1</td>\n",
       "      <td>112</td>\n",
       "      <td>Amersfoort</td>\n",
       "      <td>city</td>\n",
       "      <td>NL</td>\n",
       "      <td>52.156389</td>\n",
       "      <td>5.389722</td>\n",
       "      <td>Amersfoort () is een stad en gemeente in het o...</td>\n",
       "      <td>u17bdwu</td>\n",
       "      <td>NL</td>\n",
       "      <td>https://upload.wikimedia.org/wikipedia/commons...</td>\n",
       "      <td>Koppelpoort_Night.jpg</td>\n",
       "      <td>Richywiseman</td>\n",
       "      <td>CC BY-SA 4.0</td>\n",
       "      <td>jpg</td>\n",
       "      <td>Amersfoort, nestled in the eastern part of the...</td>\n",
       "      <td>[1, city, [history, monument]]\\n</td>\n",
       "      <td>1.0</td>\n",
       "      <td>city</td>\n",
       "      <td>history, monument</td>\n",
       "    </tr>\n",
       "    <tr>\n",
       "      <th>2</th>\n",
       "      <td>2</td>\n",
       "      <td>227</td>\n",
       "      <td>Bergen op Zoom</td>\n",
       "      <td>city</td>\n",
       "      <td>NL</td>\n",
       "      <td>51.500000</td>\n",
       "      <td>4.300000</td>\n",
       "      <td>Bergen op Zoom (; Bergs: Bèrrege, Frans: Berg-...</td>\n",
       "      <td>u15hcz7</td>\n",
       "      <td>NL</td>\n",
       "      <td>NaN</td>\n",
       "      <td>NaN</td>\n",
       "      <td>NaN</td>\n",
       "      <td>NaN</td>\n",
       "      <td>NaN</td>\n",
       "      <td>Bergen op Zoom is a city in the westernmost pa...</td>\n",
       "      <td>[1, city, [region, history]]\\n</td>\n",
       "      <td>1.0</td>\n",
       "      <td>city</td>\n",
       "      <td>region, history</td>\n",
       "    </tr>\n",
       "  </tbody>\n",
       "</table>\n",
       "</div>"
      ],
      "text/plain": [
       "   Unnamed: 0   id           title  type region   latitude  longitude  \\\n",
       "0           0   72          Arnhem  city     NL  51.983333   5.916667   \n",
       "1           1  112      Amersfoort  city     NL  52.156389   5.389722   \n",
       "2           2  227  Bergen op Zoom  city     NL  51.500000   4.300000   \n",
       "\n",
       "                                          clean_text  geohash country_code  \\\n",
       "0  Arnhem (uitspraak:  of , Arnhems: Ernem) is ee...  u1hpwxk           NL   \n",
       "1  Amersfoort () is een stad en gemeente in het o...  u17bdwu           NL   \n",
       "2  Bergen op Zoom (; Bergs: Bèrrege, Frans: Berg-...  u15hcz7           NL   \n",
       "\n",
       "                                      thumbnail_link  \\\n",
       "0  https://upload.wikimedia.org/wikipedia/commons...   \n",
       "1  https://upload.wikimedia.org/wikipedia/commons...   \n",
       "2                                                NaN   \n",
       "\n",
       "           thumbnail_file_name thumbnail_author thumbnail_license  \\\n",
       "0  23_april_2016_CS_Arnhem.jpg     Hellendijk81      CC BY-SA 4.0   \n",
       "1        Koppelpoort_Night.jpg     Richywiseman      CC BY-SA 4.0   \n",
       "2                          NaN              NaN               NaN   \n",
       "\n",
       "  thumbnail_file_extension                                     generated_text  \\\n",
       "0                      jpg  Arnhem, the capital of Gelderland, is a city w...   \n",
       "1                      jpg  Amersfoort, nestled in the eastern part of the...   \n",
       "2                      NaN  Bergen op Zoom is a city in the westernmost pa...   \n",
       "\n",
       "                    category_output  level main_category      subcategories  \n",
       "0    [1, city, [region, history]]\\n    1.0          city    region, history  \n",
       "1  [1, city, [history, monument]]\\n    1.0          city  history, monument  \n",
       "2    [1, city, [region, history]]\\n    1.0          city    region, history  "
      ]
     },
     "execution_count": 5,
     "metadata": {},
     "output_type": "execute_result"
    }
   ],
   "source": [
    "df = pd.read_csv('nl_full_all_columns.csv')\n",
    "df.head(3)"
   ]
  },
  {
   "cell_type": "code",
   "execution_count": 6,
   "metadata": {},
   "outputs": [
    {
     "data": {
      "text/plain": [
       "Index(['Unnamed: 0', 'id', 'title', 'type', 'region', 'latitude', 'longitude',\n",
       "       'clean_text', 'geohash', 'country_code', 'thumbnail_link',\n",
       "       'thumbnail_file_name', 'thumbnail_author', 'thumbnail_license',\n",
       "       'thumbnail_file_extension', 'generated_text', 'category_output',\n",
       "       'level', 'main_category', 'subcategories'],\n",
       "      dtype='object')"
      ]
     },
     "execution_count": 6,
     "metadata": {},
     "output_type": "execute_result"
    }
   ],
   "source": [
    "df.columns"
   ]
  },
  {
   "cell_type": "markdown",
   "metadata": {},
   "source": [
    "# Making embeddings\n",
    "\n",
    "## all-MiniLM-L6-v2\n",
    "Starting with a small local model as a baseline comparison. It should be fast, but we will see how the quality is."
   ]
  },
  {
   "cell_type": "code",
   "execution_count": 1,
   "metadata": {},
   "outputs": [
    {
     "name": "stderr",
     "output_type": "stream",
     "text": [
      "c:\\Users\\user1\\anaconda3\\envs\\RAGLLMs\\Lib\\site-packages\\tqdm\\auto.py:21: TqdmWarning: IProgress not found. Please update jupyter and ipywidgets. See https://ipywidgets.readthedocs.io/en/stable/user_install.html\n",
      "  from .autonotebook import tqdm as notebook_tqdm\n"
     ]
    }
   ],
   "source": [
    "from sentence_transformers import SentenceTransformer\n",
    "import json"
   ]
  },
  {
   "cell_type": "code",
   "execution_count": null,
   "metadata": {},
   "outputs": [
    {
     "data": {
      "application/vnd.jupyter.widget-view+json": {
       "model_id": "fff9fb936cfb48fab0dfbef61ed883da",
       "version_major": 2,
       "version_minor": 0
      },
      "text/plain": [
       "Batches:   0%|          | 0/1254 [00:00<?, ?it/s]"
      ]
     },
     "metadata": {},
     "output_type": "display_data"
    },
    {
     "name": "stdout",
     "output_type": "stream",
     "text": [
      "Embeddings saved to embeddings/embeddings.json\n"
     ]
    }
   ],
   "source": [
    "model = SentenceTransformer('sentence-transformers/all-MiniLM-L6-v2')\n",
    "\n",
    "def generate_embeddings(df, text_column='generated_text', id_column='id', save_path=\"embeddings/\", file_name=\"embeddings.json\"):\n",
    "    os.makedirs(save_path, exist_ok=True)  \n",
    "\n",
    "    # Generate embeddings\n",
    "    embeddings = model.encode(df[text_column].tolist(), show_progress_bar=True)\n",
    "\n",
    "    # Prepare data for JSON\n",
    "    records = []\n",
    "    for idx, row in df.iterrows():\n",
    "        record = {\n",
    "            \"id\": row[id_column],\n",
    "            \"embedding\": embeddings[idx].tolist(),\n",
    "            \"metadata\": {\n",
    "                \"title\": row.get(\"title\"),\n",
    "                \"longitude\": row.get(\"longitude\"),\n",
    "                \"latitude\": row.get(\"latitude\"),\n",
    "                \"main_category\": row.get(\"main_category\"),\n",
    "                \"subcategories\": row.get(\"subcategories\"),\n",
    "            },\n",
    "        }\n",
    "        records.append(record)\n",
    "\n",
    "    # Save to JSON file\n",
    "    save_file = os.path.join(save_path, file_name)\n",
    "    with open(save_file, \"w\") as f:\n",
    "        json.dump(records, f, indent=4)\n",
    "\n",
    "    print(f\"Embeddings saved to {save_file}\")\n",
    "    return save_file\n",
    "\n",
    "# Generate and save embeddings\n",
    "embedding_file = generate_embeddings(df, text_column='generated_text')\n"
   ]
  },
  {
   "cell_type": "markdown",
   "metadata": {},
   "source": [
    "## all-mpnet-base-v2\n",
    "A larger model should result in better embeddings"
   ]
  },
  {
   "cell_type": "code",
   "execution_count": 2,
   "metadata": {},
   "outputs": [],
   "source": [
    "import pandas as pd \n",
    "import torch"
   ]
  },
  {
   "cell_type": "code",
   "execution_count": 7,
   "metadata": {},
   "outputs": [
    {
     "name": "stdout",
     "output_type": "stream",
     "text": [
      "Using GPU for embedding generation.\n"
     ]
    },
    {
     "name": "stderr",
     "output_type": "stream",
     "text": [
      "Batches: 100%|██████████| 1254/1254 [04:51<00:00,  4.30it/s]\n"
     ]
    },
    {
     "name": "stdout",
     "output_type": "stream",
     "text": [
      "Embeddings saved to embeddings/all-mpnet-base-v2_embeddings.json\n"
     ]
    }
   ],
   "source": [
    "# Load the model with GPU support if available\n",
    "device = 'cuda' if torch.cuda.is_available() else 'cpu'\n",
    "model = SentenceTransformer('sentence-transformers/all-mpnet-base-v2', device=device)\n",
    "\n",
    "def generate_embeddings(df, text_column='generated_text', id_column='id', save_path=\"embeddings/\", file_name=\"all-mpnet-base-v2_embeddings.json\"):\n",
    "    os.makedirs(save_path, exist_ok=True)  \n",
    "\n",
    "    # Generate embeddings using GPU (if available)\n",
    "    embeddings = model.encode(df[text_column].tolist(), show_progress_bar=True, convert_to_tensor=True)\n",
    "    embeddings = embeddings.cpu().numpy()  # Convert back to CPU for saving\n",
    "\n",
    "    # Prepare data for JSON\n",
    "    records = []\n",
    "    for idx, row in df.iterrows():\n",
    "        record = {\n",
    "            \"id\": row[id_column],\n",
    "            \"embedding\": embeddings[idx].tolist(),\n",
    "            \"metadata\": {\n",
    "                \"title\": row.get(\"title\"),\n",
    "                \"longitude\": row.get(\"longitude\"),\n",
    "                \"latitude\": row.get(\"latitude\"),\n",
    "                \"main_category\": row.get(\"main_category\"),\n",
    "                \"subcategories\": row.get(\"subcategories\"),\n",
    "            },\n",
    "        }\n",
    "        records.append(record)\n",
    "\n",
    "    # Save to JSON file\n",
    "    save_file = os.path.join(save_path, file_name)\n",
    "    with open(save_file, \"w\") as f:\n",
    "        json.dump(records, f, indent=4)\n",
    "\n",
    "    print(f\"Embeddings saved to {save_file}\")\n",
    "    return save_file\n",
    "\n",
    "# Check if CUDA is available\n",
    "if torch.cuda.is_available():\n",
    "    print(\"Using GPU for embedding generation.\")\n",
    "else:\n",
    "    print(\"Using CPU for embedding generation. Consider using a GPU for faster processing.\")\n",
    "\n",
    "# Generate and save embeddings\n",
    "embedding_file = generate_embeddings(df, text_column='generated_text')"
   ]
  }
 ],
 "metadata": {
  "kernelspec": {
   "display_name": "RAGLLMs",
   "language": "python",
   "name": "python3"
  },
  "language_info": {
   "codemirror_mode": {
    "name": "ipython",
    "version": 3
   },
   "file_extension": ".py",
   "mimetype": "text/x-python",
   "name": "python",
   "nbconvert_exporter": "python",
   "pygments_lexer": "ipython3",
   "version": "3.11.11"
  }
 },
 "nbformat": 4,
 "nbformat_minor": 2
}
