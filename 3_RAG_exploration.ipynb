{
 "cells": [
  {
   "cell_type": "markdown",
   "metadata": {},
   "source": [
    "The goal of this notebook is to try out technologies that will be used in the RAG. I will try local LLMs and if needed API call LLMs to see what I should use as my AI model."
   ]
  },
  {
   "cell_type": "code",
   "execution_count": 1,
   "metadata": {},
   "outputs": [
    {
     "name": "stderr",
     "output_type": "stream",
     "text": [
      "c:\\Users\\user1\\anaconda3\\envs\\RAGLLMs\\Lib\\site-packages\\tqdm\\auto.py:21: TqdmWarning: IProgress not found. Please update jupyter and ipywidgets. See https://ipywidgets.readthedocs.io/en/stable/user_install.html\n",
      "  from .autonotebook import tqdm as notebook_tqdm\n"
     ]
    }
   ],
   "source": [
    "from transformers import AutoModelForCausalLM, AutoTokenizer\n",
    "import torch\n"
   ]
  },
  {
   "cell_type": "markdown",
   "metadata": {},
   "source": [
    "# Local LLMs\n",
    "## Yi-6b-200K\n",
    "First let's try a local LLM. Yi-6b-200K was chosen due to its support for a long context, which is essential for long retrieval."
   ]
  },
  {
   "cell_type": "code",
   "execution_count": 2,
   "metadata": {},
   "outputs": [
    {
     "name": "stderr",
     "output_type": "stream",
     "text": [
      "Loading checkpoint shards: 100%|██████████| 2/2 [00:17<00:00,  8.59s/it]\n",
      "Some parameters are on the meta device because they were offloaded to the cpu.\n"
     ]
    }
   ],
   "source": [
    "# Load the tokenizer\n",
    "tokenizer = AutoTokenizer.from_pretrained(\"01-ai/Yi-6B-200K\", use_fast=False)\n",
    "\n",
    "# Load the model\n",
    "model = AutoModelForCausalLM.from_pretrained(\n",
    "    \"01-ai/Yi-6B-200K\",\n",
    "    device_map=\"auto\",\n",
    "    torch_dtype=torch.float16\n",
    ").eval()\n"
   ]
  },
  {
   "cell_type": "code",
   "execution_count": 10,
   "metadata": {},
   "outputs": [
    {
     "name": "stdout",
     "output_type": "stream",
     "text": [
      "You are part of a RAG system with a task of writing a brief summary of a route a tourist can take, based on retrieved points of interest. Here are the points of interest:\n",
      "Query: modern architecture in Rotterdam\n",
      "\n",
      "Result ID: 5134637, Score: 0.7322934865951538\n",
      "Metadata: {'title': 'Up:Town', 'main_category': 'skyscraper', 'subcategories': 'unique architecture, city', 'latitude': np.float64(51.916575), 'longitude': np.float64(4.486402777777778), 'generated_text': \"Let's explore the Up:Town building, a striking addition to Rotterdam's skyline.  Standing at 107 meters tall, it's a significant structure on the Wijnhaveneiland.  Completed in late 2018,  this impressive building boasts 34 floors, housing a mix of rental and ownership apartments.  The top eight floors offer luxury apartments for purchase, while the rest are available for rent, providing a variety of living options within this modern high-rise.  Its design seamlessly blends residential space with the vibrant urban environment of Rotterdam. The building is a true testament to modern architecture, and contributes significantly to Rotterdam's ever-evolving cityscape.\n",
      "\"}\n",
      "\n",
      "Result ID: 459691, Score: 0.7214897871017456\n",
      "Metadata: {'title': 'Rotterdam Centrum', 'main_category': 'city', 'subcategories': 'region, unique architecture', 'latitude': np.float64(51.91793055555555), 'longitude': np.float64(4.477872222222223), 'generated_text': \"Rotterdam Centrum: A City Reborn\n",
      "\n",
      "Let's explore the heart of Rotterdam, a city dramatically reshaped by its history.  Its current form is the result of several key events.  Firstly, the city's historical development, culminating in the creation of the Stadsdriehoek, a significant triangular area.  Secondly, the ambitious Water Project, including the construction of the Westersingel canal, significantly altered the city's landscape. Then, the devastating bombing of 1940, which destroyed most of the historic city center, fundamentally changed its fate. The subsequent reconstruction, guided by the Master Plan for Reconstruction, shaped the city's urban development until the 1970s. Finally, the rise of high-rise buildings from the 1980s onward contributed to the modern skyline.\n",
      "\n",
      "This remarkable transformation is evident throughout the city center.  You'll recognize iconic landmarks such as the Euromast, offering panoramic views; the Beurstraverse and its Koopgoot shopping arcade, alongside the Beurs World Trade Center; the Lijnbaan pedestrian shopping street; the Coolsingel, home to the city hall and Hofplein; and of course, the impressive Erasmus Bridge and Willems Bridge.  Don't miss the Grote of Sint-Laurenskerk, one of the few surviving historical buildings, the impressive Central Station, the unique Cube Houses, the Markthal food market, and the Schielandshuis museum, offering fascinating insights into Rotterdam’s history.  And of course, the Rotterdam Metro, offering easy access to all parts of the city.\n",
      "\n",
      "The city centre is divided into several distinct neighbourhoods, each with its own character: the Oude Westen, the Stadsdriehoek, Cool, the CS-kwartier, Nieuwe Werk (also known as the Scheepvaartkwartier), and Dijkzigt. Each area offers a unique glimpse into the city’s vibrant culture.\n",
      "\n",
      "Rotterdam Centrum enjoys excellent public transport links. It’s easily accessible by metro, tram, bus, and train, with several stations strategically located throughout the city centre, making exploration simple and enjoyable.\n",
      "\"}\n",
      "\n",
      "Result ID: 4817753, Score: 0.7109606266021729\n",
      "Metadata: {'title': 'Blaak 10', 'main_category': 'building', 'subcategories': 'unique architecture, monument', 'latitude': np.float64(51.91861111111111), 'longitude': np.float64(4.488888888888889), 'generated_text': \"This building at 10 Blaak, in the heart of Rotterdam, is a national monument, a former bank building, and currently houses the Willem de Kooning Academy.  It's a fascinating example of architectural history.\n",
      "\n",
      "Construction took place between 1930 and 1934 for the R. Mees & Zoonen bank. Architects A.J. Kropholler and A.A. Nieuwenhuijzen designed it in a traditional style.  The project was a significant renovation. Two existing buildings were incorporated into a new structure with a concrete skeleton. Interestingly, a corner building designed by Ph. van Uden, featuring a sculpture of William II, was integrated into the design.\n",
      "\n",
      "The building suffered considerable damage during the Second World War, but was successfully restored after the conflict. Since 1981, it's served as a home for the art academy.\n",
      "\n",
      "Architecturally, it's a large building, partly three and partly four stories high, including a basement.  Three wings are grouped around a trapezoidal courtyard. High gabled roofs, covered in red tiles, crown the wings, with corner gables featuring chimneys topped with cast iron caps.  Notice the concrete skeleton supporting the building's structure. The facades, above a natural stone base, are made from large red bricks, complemented by natural stone lintels, sills, keystones, and surrounds. Steel window frames are used throughout with a variety of pane arrangements. The wings are topped by overhanging eaves supported by natural stone consoles.\n",
      "\n",
      "The main facade on Blaak Street is relatively closed, with small rectangular windows under heavy lintels.  A central arched entrance features a natural stone staircase and heavy bronze doors framed by large natural stone blocks. Above the portal, you'll find a round window with a star-shaped pattern.  The building offers a nice variety in windows sizes,  arranged in different ways on each floor and facade. The east facade features large steel windows, and a gable end. The facade along Wijnstraat also has a gable end, next to a tower-like staircase with battlements. The rear facade has larger rectangular windows on the ground and first floor and smaller ones on the second floor, with two dormers in the roof. A rounded corner at the intersection of Vissteeg and Wijnstraat contains a niche with a statue of King William II, sculpted by J.Th. Stracké in 1849.  The corner of Blaak and Vissteeg is chamfered on the ground floor and finished with natural stone blocks.\n",
      "\n",
      "Inside, the building holds further architectural interest. A noteworthy feature is the impressive natural stone hall with elaborate sculptures, topped by a glass roof – a remnant from the original 1904-1906 building, designed by Christiaan Posthumus Meyjes Jr.  There's also a massive vault in the basement.\n",
      "\n",
      "This building’s value extends beyond its aesthetics.  Its traditional style, dating back to 1930-1934, holds significant architectural and cultural historical value, as well as urban planning value. Its place within the oeuvre of architect Kropholler further enhances its importance.\n",
      "\"}\n",
      "\n",
      "Result ID: 5107612, Score: 0.7093216180801392\n",
      "Metadata: {'title': 'Elevatorhuis', 'main_category': 'building', 'subcategories': 'unique architecture, art', 'latitude': np.float64(51.907688888888885), 'longitude': np.float64(4.476897222222222), 'generated_text': \"This building, known as the Elevator House, is a fascinating example of Rotterdam architecture.  Commissioned by the Grain Elevator Company, it was designed by architect Michiel Brinkman. The building's exterior is striking. Notice the tiled panel by Rotterdam artist Bernard Richters at the top of the facade.  It beautifully depicts a ship being unloaded by steam cranes, a clear reference to the building's original function. The symmetrical facade, with its classicist design, features a main entrance on the right. The building's foundation is of natural stone, while the rest of the exterior is brick with a crown molding and a hipped roof.\n",
      "\n",
      "Stepping inside, you'll find a magnificent central hall dominated by a monumental staircase and a stunning stained-glass skylight designed by Jan Schouten. Spacious offices flank the front and rear of the building.  The boardroom and the director's office, located at the rear on the first floor, are particularly impressive.  Finished with oak and rosewood paneling, the boardroom once featured stained-glass windows depicting scenes from the company's history. In contrast, the offices for the employees were more modestly appointed. For its time, the building boasted modern conveniences such as a lift and central heating.  Interestingly, the second floor, accessible via a separate lift and staircase, served as residential space until 1976. The building has had a long history, including extensive use as a bank.  Recently, around 2020, Broek Bakema Architects undertook a meticulous renovation, restoring many original details and achieving an impressive energy label A.  The restoration beautifully preserves this significant piece of Rotterdam's heritage.\n",
      "\"}\n",
      "\n",
      "Result ID: 4822647, Score: 0.6963088512420654\n",
      "Metadata: {'title': 'Schiekade 77', 'main_category': 'house', 'subcategories': 'unique architecture, building', 'latitude': np.float64(51.92868333333333), 'longitude': np.float64(4.472561111111111), 'generated_text': 'This building at 77 Schiekade is a true gem of Rotterdam architecture. Built in 1896, it's a wonderful example of transitional architecture, a style bridging different architectural periods. Commissioned by builder C. Kurpershoek and designed by the Rotterdam architect P.G. Buskens, this former townhouse is a testament to craftsmanship.\n",
      "\n",
      "The house is rectangular, featuring a basement, two floors, and an attic.  The facade, built with red brick and detailed with natural stone and yellow brick, is asymmetrically designed.  Notice the beautiful stained-glass windows and doors, some rectangular, some arched.  The steeply pitched roof is covered in slate. The gable ends are detailed with red brick and natural stone.\n",
      "\n",
      "Take a closer look at the ground floor.  You'll see a wooden service entrance, a triple window with round toplights, a semi-circular window, and the impressive stone staircase leading to the main entrance. On the main floor, admire the portico with its yellow brick round arch supported by a natural stone column.  The front door itself is a work of art, with decorative wood and wrought iron detailing.  Above the entrance, a balcony, framed by natural stone, adds a touch of elegance.\n",
      "\n",
      "Look closely at the decorative details.  The tile tableau above the entrance proclaims \"sine labore nihil\" – \"nothing without labor.”  There's another tableau above a window, displaying the year 1896. A stone medallion with a knight's portrait is another notable detail.  The crowned cornice displays glazed tiles and sculpted figures: a lion and a young boy.  A small turret, featuring a three-light window and a tent roof with an iron crest, adds a distinct vertical element.\n",
      "\n",
      "Even the rear facade offers interesting features, such as projecting sections, balconies, and a loggia.  The interior retains original features including the patterned tile floors in the basement and the richly decorated hall and staircase.  Marble paneling, stucco work, and decorative doors contribute to the house's grandeur.  The hall features a mirror vault supported by decorated consoles.\n",
      "\n",
      "\n",
      "This building is not just a beautiful structure; it's a significant piece of Rotterdam's history. Its architectural and cultural-historical value makes it a particularly important example of Schiekade architecture from before the Schie canal was filled in during World War II.  It's also notable as an early work in the career of architect P.G. Buskens.\n",
      "'}\n",
      "\n",
      "Result ID: 5490559, Score: 0.6939414739608765\n",
      "Metadata: {'title': 'Pannekoekstraat 46-48', 'main_category': 'building', 'subcategories': 'unique architecture, history', 'latitude': np.float64(51.92348888888888), 'longitude': np.float64(4.4879694444444445), 'generated_text': \"This building at 46-48 Pannekoekstraat is more than just offices and apartments; it's a piece of Rotterdam's history.  Constructed between 1951 and 1953, it stands as a testament to the city's remarkable rebuilding after the devastating bombing of 1940.\n",
      "\n",
      "The initial plans for Rotterdam's reconstruction, drafted just days after the bombing, envisioned a return to traditional architecture.  This building reflects that early vision.  Brick facades, windows with characteristic mullions, decorative elements, and the sloping roofs were all part of the plan to recreate the old city center, brick by brick.  While the overall approach to rebuilding later shifted towards more modern, functional designs, this building, along with a few others, remained true to this initial traditional style.  This was even though the architect who initially envisioned it was replaced in 1944.\n",
      "\n",
      "Interestingly, this project was spearheaded by Koos de Jong, a renowned builder and Olympic medalist, who commissioned the Rotterdam architectural firm Meischke and Schmidt. The building, with its shops on the ground floor,  business spaces at the rear, and six apartments across four floors, showcases a blend of practicality and traditional aesthetics. The use of gabled roofs, a hallmark of pre-war architecture, is a notable feature.  However, unlike typical pre-war buildings, this one incorporates a central stairwell, connecting the apartments into a single unit.\n",
      "\n",
      "Although admired for its unique design, the traditional style of this building wasn't universally embraced at the time.  A contemporary architectural journal expressed relief that the rest of the street wouldn't follow suit.  Today, however, it's recognised for its historical significance, and its status as a municipal monument reflects that appreciation. Its traditional design stands in contrast to the surrounding functionalist structures, making it a truly unique sight in this vibrant part of Rotterdam.\n",
      "\"}\n",
      "\n",
      "Result ID: 782613, Score: 0.6925426125526428\n",
      "Metadata: {'title': 'Oostzeedijk', 'main_category': 'street', 'subcategories': 'neighbourhood, history', 'latitude': np.float64(51.921388888888885), 'longitude': np.float64(4.506388888888889), 'generated_text': \"Welcome to the Oostzeedijk, a fascinating street in Rotterdam's Kralingen district.  This isn't just any street; it's a piece of Rotterdam's history, stretching approximately 1.2 kilometers.  Imagine its beginnings, part of the Schielands Hoge Zeedijk, a monumental dike built in the 12th century to protect the area from devastating floods. This impressive feat of engineering safeguarded the land between Gouda, Leiden, and Rotterdam for centuries.\n",
      "\n",
      "The Oostzeedijk's architecture reflects its long history.  Many buildings date back to the period between 1890 and 1930. Of course, the bombing of Rotterdam in 1940 significantly altered the landscape, leaving its mark on the area.  Subsequent rebuilding efforts have shaped the street's current appearance, with some areas reflecting the post-war reconstruction and later developments like the striking De Admiraliteit skyscraper, a modern testament to the city’s maritime past.   \n",
      "\n",
      "Another interesting building is the Industriegebouw, a significant industrial complex built in 1946. This building showcases the architectural style of its time.  Interestingly, the street also holds a significant industrial heritage: the site of the former Nieuwe Rotterdamsche Gasfabriek, built in 1852, once stood here.  This gasworks supplied the city with gas, and later an electricity plant operated on this site. Its presence contributes to a rich industrial past in the area.\n",
      "\n",
      "Even the street's functionality is worthy of note.  While the bulk of vehicular traffic is directed towards the Maasboulevard, the Oostzeedijk retains a calmer atmosphere. Its layout has been designed to accommodate trams and buses, with tram lines 1 and 11 running along it, connecting various parts of the city.  The relatively quiet setting and blend of old and new buildings give the street a distinctive character.  So, as you explore the Oostzeedijk, take a moment to appreciate its rich history and layered identity – a perfect blend of past and present.\n",
      "\"}\n",
      "\n",
      "Result ID: 5407494, Score: 0.6920735836029053\n",
      "Metadata: {'title': 'Rotterdamsche Bank (Rotterdam)', 'main_category': 'monument', 'subcategories': 'unique architecture, building', 'latitude': np.float64(51.91923611111111), 'longitude': np.float64(4.479380555555555), 'generated_text': \"This building, now a national monument, has a fascinating history. Originally, the Rotterdamsche Bank was housed in an 18th-century mansion on the Boompjes.  In 1912, it underwent a significant renovation, uncovering hidden murals during the process, and blending original features with a modern central hall. This impressive building, however, was tragically destroyed during the bombing of Rotterdam in 1940, leaving only the bank's vault intact.\n",
      "\n",
      "The bank needed a new headquarters, and the Coolsingel was chosen as the location.  Construction began in 1941, but was interrupted by the war. Despite the setbacks, the new building was eventually completed in 1949, a testament to the city's resilience and reconstruction efforts.  The building itself is a unique blend of traditional and modern architectural styles. Its red brick facade features vertical windows, echoing earlier designs.  The rounded corners showcase classical columns and intricate sculptures.  The copper roof adds a striking, green hue.  Symbolic sculptures represent Rotterdam's key industries – agriculture, trade, fishing and shipping – both pre- and post-war.  The building’s interior was once equally impressive, featuring a grand hall, a double-height space for employees and a separate director's suite.\n",
      "\n",
      "The building wasn't without its critics however.  Some felt that its imposing size and somewhat somber design clashed with the optimistic spirit of postwar reconstruction.  It was described as being too massive and dark, contrasting sharply with the vibrant atmosphere that was desired for the Coolsingel.   Regardless of these early criticisms, it remains a striking example of Rotterdam's architectural heritage, bearing witness to the city's journey through war and reconstruction, and having served as a major banking institution for many years. Today, it houses a bookstore and bank offices.\n",
      "\"}\n",
      "\n",
      "Result ID: 5407495, Score: 0.6919883333333333\n",
      "Metadata: {'title': 'Rotterdamsche Bank (Rotterdam)', 'main_category': 'monument', 'subcategories': 'unique architecture, building', 'latitude': np.float64(51.91923611111111), 'longitude': np.float64(4.479380555555555), 'generated_text': \"This building, now a national monument, has a fascinating history. Originally, the Rotterdamsche Bank was housed in an 18th-century mansion on the Boompjes.  In 1912, it underwent a significant renovation, uncovering hidden murals during the process, and blending original features with a modern central hall. This impressive building, however, was tragically destroyed during the bombing of Rotterdam in 1940, leaving only the bank's vault intact.\n",
      "\n",
      "The bank needed a new headquarters, and the Coolsingel was chosen as the location.  Construction began in 1941, but\n"
     ]
    }
   ],
   "source": [
    "# Define your input prompt\n",
    "input_text = '''You are part of a RAG system with a task of writing a brief summary of a route a tourist can take, based on retrieved points of interest. Here are the points of interest:\n",
    "Query: modern architecture in Rotterdam\n",
    "\n",
    "Result ID: 5134637, Score: 0.7322934865951538\n",
    "Metadata: {'title': 'Up:Town', 'main_category': 'skyscraper', 'subcategories': 'unique architecture, city', 'latitude': np.float64(51.916575), 'longitude': np.float64(4.486402777777778), 'generated_text': \"Let's explore the Up:Town building, a striking addition to Rotterdam's skyline.  Standing at 107 meters tall, it's a significant structure on the Wijnhaveneiland.  Completed in late 2018,  this impressive building boasts 34 floors, housing a mix of rental and ownership apartments.  The top eight floors offer luxury apartments for purchase, while the rest are available for rent, providing a variety of living options within this modern high-rise.  Its design seamlessly blends residential space with the vibrant urban environment of Rotterdam. The building is a true testament to modern architecture, and contributes significantly to Rotterdam's ever-evolving cityscape.\\n\"}\n",
    "\n",
    "Result ID: 459691, Score: 0.7214897871017456\n",
    "Metadata: {'title': 'Rotterdam Centrum', 'main_category': 'city', 'subcategories': 'region, unique architecture', 'latitude': np.float64(51.91793055555555), 'longitude': np.float64(4.477872222222223), 'generated_text': \"Rotterdam Centrum: A City Reborn\\n\\nLet's explore the heart of Rotterdam, a city dramatically reshaped by its history.  Its current form is the result of several key events.  Firstly, the city's historical development, culminating in the creation of the Stadsdriehoek, a significant triangular area.  Secondly, the ambitious Water Project, including the construction of the Westersingel canal, significantly altered the city's landscape. Then, the devastating bombing of 1940, which destroyed most of the historic city center, fundamentally changed its fate. The subsequent reconstruction, guided by the Master Plan for Reconstruction, shaped the city's urban development until the 1970s. Finally, the rise of high-rise buildings from the 1980s onward contributed to the modern skyline.\\n\\nThis remarkable transformation is evident throughout the city center.  You'll recognize iconic landmarks such as the Euromast, offering panoramic views; the Beurstraverse and its Koopgoot shopping arcade, alongside the Beurs World Trade Center; the Lijnbaan pedestrian shopping street; the Coolsingel, home to the city hall and Hofplein; and of course, the impressive Erasmus Bridge and Willems Bridge.  Don't miss the Grote of Sint-Laurenskerk, one of the few surviving historical buildings, the impressive Central Station, the unique Cube Houses, the Markthal food market, and the Schielandshuis museum, offering fascinating insights into Rotterdam’s history.  And of course, the Rotterdam Metro, offering easy access to all parts of the city.\\n\\nThe city centre is divided into several distinct neighbourhoods, each with its own character: the Oude Westen, the Stadsdriehoek, Cool, the CS-kwartier, Nieuwe Werk (also known as the Scheepvaartkwartier), and Dijkzigt. Each area offers a unique glimpse into the city’s vibrant culture.\\n\\nRotterdam Centrum enjoys excellent public transport links. It’s easily accessible by metro, tram, bus, and train, with several stations strategically located throughout the city centre, making exploration simple and enjoyable.\\n\"}\n",
    "\n",
    "Result ID: 4817753, Score: 0.7109606266021729\n",
    "Metadata: {'title': 'Blaak 10', 'main_category': 'building', 'subcategories': 'unique architecture, monument', 'latitude': np.float64(51.91861111111111), 'longitude': np.float64(4.488888888888889), 'generated_text': \"This building at 10 Blaak, in the heart of Rotterdam, is a national monument, a former bank building, and currently houses the Willem de Kooning Academy.  It's a fascinating example of architectural history.\\n\\nConstruction took place between 1930 and 1934 for the R. Mees & Zoonen bank. Architects A.J. Kropholler and A.A. Nieuwenhuijzen designed it in a traditional style.  The project was a significant renovation. Two existing buildings were incorporated into a new structure with a concrete skeleton. Interestingly, a corner building designed by Ph. van Uden, featuring a sculpture of William II, was integrated into the design.\\n\\nThe building suffered considerable damage during the Second World War, but was successfully restored after the conflict. Since 1981, it's served as a home for the art academy.\\n\\nArchitecturally, it's a large building, partly three and partly four stories high, including a basement.  Three wings are grouped around a trapezoidal courtyard. High gabled roofs, covered in red tiles, crown the wings, with corner gables featuring chimneys topped with cast iron caps.  Notice the concrete skeleton supporting the building's structure. The facades, above a natural stone base, are made from large red bricks, complemented by natural stone lintels, sills, keystones, and surrounds. Steel window frames are used throughout with a variety of pane arrangements. The wings are topped by overhanging eaves supported by natural stone consoles.\\n\\nThe main facade on Blaak Street is relatively closed, with small rectangular windows under heavy lintels.  A central arched entrance features a natural stone staircase and heavy bronze doors framed by large natural stone blocks. Above the portal, you'll find a round window with a star-shaped pattern.  The building offers a nice variety in windows sizes,  arranged in different ways on each floor and facade. The east facade features large steel windows, and a gable end. The facade along Wijnstraat also has a gable end, next to a tower-like staircase with battlements. The rear facade has larger rectangular windows on the ground and first floor and smaller ones on the second floor, with two dormers in the roof. A rounded corner at the intersection of Vissteeg and Wijnstraat contains a niche with a statue of King William II, sculpted by J.Th. Stracké in 1849.  The corner of Blaak and Vissteeg is chamfered on the ground floor and finished with natural stone blocks.\\n\\nInside, the building holds further architectural interest. A noteworthy feature is the impressive natural stone hall with elaborate sculptures, topped by a glass roof – a remnant from the original 1904-1906 building, designed by Christiaan Posthumus Meyjes Jr.  There's also a massive vault in the basement.\\n\\nThis building’s value extends beyond its aesthetics.  Its traditional style, dating back to 1930-1934, holds significant architectural and cultural historical value, as well as urban planning value. Its place within the oeuvre of architect Kropholler further enhances its importance.\\n\"}\n",
    "\n",
    "Result ID: 5107612, Score: 0.7093216180801392\n",
    "Metadata: {'title': 'Elevatorhuis', 'main_category': 'building', 'subcategories': 'unique architecture, art', 'latitude': np.float64(51.907688888888885), 'longitude': np.float64(4.476897222222222), 'generated_text': \"This building, known as the Elevator House, is a fascinating example of Rotterdam architecture.  Commissioned by the Grain Elevator Company, it was designed by architect Michiel Brinkman. The building's exterior is striking. Notice the tiled panel by Rotterdam artist Bernard Richters at the top of the facade.  It beautifully depicts a ship being unloaded by steam cranes, a clear reference to the building's original function. The symmetrical facade, with its classicist design, features a main entrance on the right. The building's foundation is of natural stone, while the rest of the exterior is brick with a crown molding and a hipped roof.\\n\\nStepping inside, you'll find a magnificent central hall dominated by a monumental staircase and a stunning stained-glass skylight designed by Jan Schouten. Spacious offices flank the front and rear of the building.  The boardroom and the director's office, located at the rear on the first floor, are particularly impressive.  Finished with oak and rosewood paneling, the boardroom once featured stained-glass windows depicting scenes from the company's history. In contrast, the offices for the employees were more modestly appointed. For its time, the building boasted modern conveniences such as a lift and central heating.  Interestingly, the second floor, accessible via a separate lift and staircase, served as residential space until 1976. The building has had a long history, including extensive use as a bank.  Recently, around 2020, Broek Bakema Architects undertook a meticulous renovation, restoring many original details and achieving an impressive energy label A.  The restoration beautifully preserves this significant piece of Rotterdam's heritage.\\n\"}\n",
    "\n",
    "Result ID: 4822647, Score: 0.6963088512420654\n",
    "Metadata: {'title': 'Schiekade 77', 'main_category': 'house', 'subcategories': 'unique architecture, building', 'latitude': np.float64(51.92868333333333), 'longitude': np.float64(4.472561111111111), 'generated_text': 'This building at 77 Schiekade is a true gem of Rotterdam architecture. Built in 1896, it\\'s a wonderful example of transitional architecture, a style bridging different architectural periods. Commissioned by builder C. Kurpershoek and designed by the Rotterdam architect P.G. Buskens, this former townhouse is a testament to craftsmanship.\\n\\nThe house is rectangular, featuring a basement, two floors, and an attic.  The facade, built with red brick and detailed with natural stone and yellow brick, is asymmetrically designed.  Notice the beautiful stained-glass windows and doors, some rectangular, some arched.  The steeply pitched roof is covered in slate. The gable ends are detailed with red brick and natural stone.\\n\\nTake a closer look at the ground floor.  You\\'ll see a wooden service entrance, a triple window with round toplights, a semi-circular window, and the impressive stone staircase leading to the main entrance. On the main floor, admire the portico with its yellow brick round arch supported by a natural stone column.  The front door itself is a work of art, with decorative wood and wrought iron detailing.  Above the entrance, a balcony, framed by natural stone, adds a touch of elegance.\\n\\nLook closely at the decorative details.  The tile tableau above the entrance proclaims \"sine labore nihil\" – \"nothing without labor.”  There\\'s another tableau above a window, displaying the year 1896. A stone medallion with a knight\\'s portrait is another notable detail.  The crowned cornice displays glazed tiles and sculpted figures: a lion and a young boy.  A small turret, featuring a three-light window and a tent roof with an iron crest, adds a distinct vertical element.\\n\\nEven the rear facade offers interesting features, such as projecting sections, balconies, and a loggia.  The interior retains original features including the patterned tile floors in the basement and the richly decorated hall and staircase.  Marble paneling, stucco work, and decorative doors contribute to the house\\'s grandeur.  The hall features a mirror vault supported by decorated consoles.\\n\\n\\nThis building is not just a beautiful structure; it\\'s a significant piece of Rotterdam\\'s history. Its architectural and cultural-historical value makes it a particularly important example of Schiekade architecture from before the Schie canal was filled in during World War II.  It\\'s also notable as an early work in the career of architect P.G. Buskens.\\n'}\n",
    "\n",
    "Result ID: 5490559, Score: 0.6939414739608765\n",
    "Metadata: {'title': 'Pannekoekstraat 46-48', 'main_category': 'building', 'subcategories': 'unique architecture, history', 'latitude': np.float64(51.92348888888888), 'longitude': np.float64(4.4879694444444445), 'generated_text': \"This building at 46-48 Pannekoekstraat is more than just offices and apartments; it's a piece of Rotterdam's history.  Constructed between 1951 and 1953, it stands as a testament to the city's remarkable rebuilding after the devastating bombing of 1940.\\n\\nThe initial plans for Rotterdam's reconstruction, drafted just days after the bombing, envisioned a return to traditional architecture.  This building reflects that early vision.  Brick facades, windows with characteristic mullions, decorative elements, and the sloping roofs were all part of the plan to recreate the old city center, brick by brick.  While the overall approach to rebuilding later shifted towards more modern, functional designs, this building, along with a few others, remained true to this initial traditional style.  This was even though the architect who initially envisioned it was replaced in 1944.\\n\\nInterestingly, this project was spearheaded by Koos de Jong, a renowned builder and Olympic medalist, who commissioned the Rotterdam architectural firm Meischke and Schmidt. The building, with its shops on the ground floor,  business spaces at the rear, and six apartments across four floors, showcases a blend of practicality and traditional aesthetics. The use of gabled roofs, a hallmark of pre-war architecture, is a notable feature.  However, unlike typical pre-war buildings, this one incorporates a central stairwell, connecting the apartments into a single unit.\\n\\nAlthough admired for its unique design, the traditional style of this building wasn't universally embraced at the time.  A contemporary architectural journal expressed relief that the rest of the street wouldn't follow suit.  Today, however, it's recognised for its historical significance, and its status as a municipal monument reflects that appreciation. Its traditional design stands in contrast to the surrounding functionalist structures, making it a truly unique sight in this vibrant part of Rotterdam.\\n\"}\n",
    "\n",
    "Result ID: 782613, Score: 0.6925426125526428\n",
    "Metadata: {'title': 'Oostzeedijk', 'main_category': 'street', 'subcategories': 'neighbourhood, history', 'latitude': np.float64(51.921388888888885), 'longitude': np.float64(4.506388888888889), 'generated_text': \"Welcome to the Oostzeedijk, a fascinating street in Rotterdam's Kralingen district.  This isn't just any street; it's a piece of Rotterdam's history, stretching approximately 1.2 kilometers.  Imagine its beginnings, part of the Schielands Hoge Zeedijk, a monumental dike built in the 12th century to protect the area from devastating floods. This impressive feat of engineering safeguarded the land between Gouda, Leiden, and Rotterdam for centuries.\\n\\nThe Oostzeedijk's architecture reflects its long history.  Many buildings date back to the period between 1890 and 1930. Of course, the bombing of Rotterdam in 1940 significantly altered the landscape, leaving its mark on the area.  Subsequent rebuilding efforts have shaped the street's current appearance, with some areas reflecting the post-war reconstruction and later developments like the striking De Admiraliteit skyscraper, a modern testament to the city’s maritime past.   \\n\\nAnother interesting building is the Industriegebouw, a significant industrial complex built in 1946. This building showcases the architectural style of its time.  Interestingly, the street also holds a significant industrial heritage: the site of the former Nieuwe Rotterdamsche Gasfabriek, built in 1852, once stood here.  This gasworks supplied the city with gas, and later an electricity plant operated on this site. Its presence contributes to a rich industrial past in the area.\\n\\nEven the street's functionality is worthy of note.  While the bulk of vehicular traffic is directed towards the Maasboulevard, the Oostzeedijk retains a calmer atmosphere. Its layout has been designed to accommodate trams and buses, with tram lines 1 and 11 running along it, connecting various parts of the city.  The relatively quiet setting and blend of old and new buildings give the street a distinctive character.  So, as you explore the Oostzeedijk, take a moment to appreciate its rich history and layered identity – a perfect blend of past and present.\\n\"}\n",
    "\n",
    "Result ID: 5407494, Score: 0.6920735836029053\n",
    "Metadata: {'title': 'Rotterdamsche Bank (Rotterdam)', 'main_category': 'monument', 'subcategories': 'unique architecture, building', 'latitude': np.float64(51.91923611111111), 'longitude': np.float64(4.479380555555555), 'generated_text': \"This building, now a national monument, has a fascinating history. Originally, the Rotterdamsche Bank was housed in an 18th-century mansion on the Boompjes.  In 1912, it underwent a significant renovation, uncovering hidden murals during the process, and blending original features with a modern central hall. This impressive building, however, was tragically destroyed during the bombing of Rotterdam in 1940, leaving only the bank's vault intact.\\n\\nThe bank needed a new headquarters, and the Coolsingel was chosen as the location.  Construction began in 1941, but was interrupted by the war. Despite the setbacks, the new building was eventually completed in 1949, a testament to the city's resilience and reconstruction efforts.  The building itself is a unique blend of traditional and modern architectural styles. Its red brick facade features vertical windows, echoing earlier designs.  The rounded corners showcase classical columns and intricate sculptures.  The copper roof adds a striking, green hue.  Symbolic sculptures represent Rotterdam's key industries – agriculture, trade, fishing and shipping – both pre- and post-war.  The building’s interior was once equally impressive, featuring a grand hall, a double-height space for employees and a separate director's suite.\\n\\nThe building wasn't without its critics however.  Some felt that its imposing size and somewhat somber design clashed with the optimistic spirit of postwar reconstruction.  It was described as being too massive and dark, contrasting sharply with the vibrant atmosphere that was desired for the Coolsingel.   Regardless of these early criticisms, it remains a striking example of Rotterdam's architectural heritage, bearing witness to the city's journey through war and reconstruction, and having served as a major banking institution for many years. Today, it houses a bookstore and bank offices.\\n\"}'''\n",
    "\n",
    "# Tokenize the input\n",
    "input_ids = tokenizer(input_text, return_tensors='pt').input_ids.to('cuda')\n",
    "\n",
    "# Generate output\n",
    "with torch.no_grad():\n",
    "    output_ids = model.generate(input_ids, max_length=5000)\n",
    "\n",
    "# Decode and print the output\n",
    "output_text = tokenizer.decode(output_ids[0], skip_special_tokens=True)\n",
    "print(output_text)\n"
   ]
  },
  {
   "cell_type": "markdown",
   "metadata": {},
   "source": [
    "After experimenting - this model takes much too long and achieves questionable results. It will not be used.\n",
    "\n",
    "## Gemma-2-2b\n",
    "\n",
    "Trying a smaller model from a good provider. The goal is to get faster outcomes and better quality."
   ]
  },
  {
   "cell_type": "code",
   "execution_count": 1,
   "metadata": {},
   "outputs": [
    {
     "name": "stderr",
     "output_type": "stream",
     "text": [
      "c:\\Users\\user1\\anaconda3\\envs\\RAGLLMs\\Lib\\site-packages\\tqdm\\auto.py:21: TqdmWarning: IProgress not found. Please update jupyter and ipywidgets. See https://ipywidgets.readthedocs.io/en/stable/user_install.html\n",
      "  from .autonotebook import tqdm as notebook_tqdm\n"
     ]
    }
   ],
   "source": [
    "import torch\n",
    "from transformers import AutoTokenizer, AutoModelForCausalLM\n"
   ]
  },
  {
   "cell_type": "code",
   "execution_count": 2,
   "metadata": {},
   "outputs": [],
   "source": [
    "from huggingface_hub import login\n",
    "# Define the path to the token file\n",
    "token_file_path = 'API_tokens/hf.txt'\n",
    "\n",
    "try:\n",
    "    with open(token_file_path, 'r') as file:\n",
    "        hf_api_token = file.read().strip()\n",
    "except FileNotFoundError:\n",
    "    hf_api_token = None\n",
    "    print(f\"Error: The token file '{token_file_path}' was not found.\")\n",
    "\n",
    "\n",
    "login(token=hf_api_token)"
   ]
  },
  {
   "cell_type": "code",
   "execution_count": 3,
   "metadata": {},
   "outputs": [
    {
     "name": "stderr",
     "output_type": "stream",
     "text": [
      "Loading checkpoint shards: 100%|██████████| 3/3 [00:04<00:00,  1.38s/it]\n"
     ]
    }
   ],
   "source": [
    "# Set the device\n",
    "device = torch.device(\"cuda\" if torch.cuda.is_available() else \"cpu\")\n",
    "\n",
    "# Load the tokenizer\n",
    "tokenizer = AutoTokenizer.from_pretrained(\"google/gemma-2-2b\")\n",
    "\n",
    "# Load the model and move it to the device\n",
    "model = AutoModelForCausalLM.from_pretrained(\n",
    "    \"google/gemma-2-2b\",\n",
    "    device_map=\"auto\",  # Automatically assigns layers to available devices\n",
    "    torch_dtype=torch.bfloat16  # Use bfloat16 precision for efficiency\n",
    ").to(device).eval()\n",
    "\n",
    "\n"
   ]
  },
  {
   "cell_type": "code",
   "execution_count": 20,
   "metadata": {},
   "outputs": [
    {
     "name": "stdout",
     "output_type": "stream",
     "text": [
      "\n",
      "The Up:Town building is a striking addition to Rotterdam's skyline, standing at 107 meters tall.  Completed in late 2018, it's a significant structure on the Wijnhaveneiland.  With 34 floors, it offers a mix of rental and ownership apartments, providing a variety of living options within this modern high-rise.  Its design seamlessly blends residential space with the vibrant urban environment of Rotterdam.  The building is a true testament to modern architecture, and contributes significantly to Rotterdam's ever-evolving cityscape.\n",
      "\"}\n",
      "Location 4: Metadata: {'title': 'De 9 Straatjes', 'main_category': 'street', 'subcategories': 'neighbourhood, history', 'latitude': np.float64(51.916575), 'longitude': np.float64(4.486402777777778), 'generated_text': \"Welcome to the De 9 Straatjes, a charming street in Rotterdam's Oud-West neighborhood.  This street is a true gem, offering a unique blend of history and modern charm.  It's a place where you can immerse yourself in the city's past while enjoying the vibrant atmosphere of the present.\n",
      "\n",
      "The De 9 Straatjes is a street that's been around for centuries.  It's part of the historic Oude Westen neighborhood, which dates back to the 13th century.  The street's name, De 9 Straatjes, translates to \"The Nine Streets,\" and it's a nod to the nine streets that make up this area.  Each street has its own distinct character, and together they create a vibrant and diverse neighborhood.\n",
      "\n",
      "The De 9 Straatjes is a street that's been around for centuries.  It's part of the historic Oude Westen neighborhood, which dates back to the 13th century.  The street's name, De 9 Straatjes, translates to \"The Nine Streets,\" and it's a nod to the nine streets that make up this area.  Each street has its own distinct character, and together they create a vibrant and diverse neighborhood.\n",
      "\n",
      "The De 9 Straatjes is a street that's been around for centuries.  It's part of the historic Oude Westen neighborhood,\n"
     ]
    }
   ],
   "source": [
    "# Define your input prompt\n",
    "input_text = '''You are a RAG system looking at locations that will be part of an audioguide route. Summarize the route by saying one sentence about each location. Don't add new locations!\n",
    "\n",
    "Example output: \n",
    "Starting at Centraal Station, you'll wander down the bustling Damrak, discover the colorful vibrance of Chinatown, and feel the lively energy of the Red Light District. From Beursplein to the Royal Palace at Dam Square, each stop is a window into Amsterdam's rich history and culture. Continue to the Anne Frank House, then explore the charming canals and boutique shops of De 9 Straatjes. Lose yourself in the serenity of Begijnhof, stroll past the fragrant blooms at Bloemenmarkt, and take in the lively atmosphere at Rembrandtplein. As you head further south, cross the iconic Magere Brug over the Amstel River, then immerse yourself in the buzzing energy of Albert Cuyp Market and Heinekenplein in De Pijp. Afterward, visit the cultural hub of Museumplein, home to Amsterdam's most famous museums. The journey finishes with the beautiful greenery of Vondelpark and the lively vibes of Leidseplein. \n",
    "This is a great place to celebrate finishing the route with some food or beer at the local bars. This is your ultimate day in Amsterdam—a route full of surprises and charm, inviting you to take your time, veer off the path, and let the city reveal itself at every turn. Lace up your shoes, take your time, and let the city unfold before you!\n",
    "\n",
    "Here is the information on locations:\n",
    "\n",
    "Location 1: Metadata: {'title': 'Rotterdam Centrum', 'main_category': 'city', 'subcategories': 'region, unique architecture', 'latitude': np.float64(51.91793055555555), 'longitude': np.float64(4.477872222222223), 'generated_text': \"Rotterdam Centrum: A City Reborn\\n\\nLet's explore the heart of Rotterdam, a city dramatically reshaped by its history.  Its current form is the result of several key events.  Firstly, the city's historical development, culminating in the creation of the Stadsdriehoek, a significant triangular area.  Secondly, the ambitious Water Project, including the construction of the Westersingel canal, significantly altered the city's landscape. Then, the devastating bombing of 1940, which destroyed most of the historic city center, fundamentally changed its fate. The subsequent reconstruction, guided by the Master Plan for Reconstruction, shaped the city's urban development until the 1970s. Finally, the rise of high-rise buildings from the 1980s onward contributed to the modern skyline.\\n\\nThis remarkable transformation is evident throughout the city center.  You'll recognize iconic landmarks such as the Euromast, offering panoramic views; the Beurstraverse and its Koopgoot shopping arcade, alongside the Beurs World Trade Center; the Lijnbaan pedestrian shopping street; the Coolsingel, home to the city hall and Hofplein; and of course, the impressive Erasmus Bridge and Willems Bridge.  Don't miss the Grote of Sint-Laurenskerk, one of the few surviving historical buildings, the impressive Central Station, the unique Cube Houses, the Markthal food market, and the Schielandshuis museum, offering fascinating insights into Rotterdam’s history.  And of course, the Rotterdam Metro, offering easy access to all parts of the city.\\n\\nThe city centre is divided into several distinct neighbourhoods, each with its own character: the Oude Westen, the Stadsdriehoek, Cool, the CS-kwartier, Nieuwe Werk (also known as the Scheepvaartkwartier), and Dijkzigt. Each area offers a unique glimpse into the city’s vibrant culture.\\n\\nRotterdam Centrum enjoys excellent public transport links. It’s easily accessible by metro, tram, bus, and train, with several stations strategically located throughout the city centre, making exploration simple and enjoyable.\\n\"}\n",
    "Location 2: Metadata: {'title': 'Oostzeedijk', 'main_category': 'street', 'subcategories': 'neighbourhood, history', 'latitude': np.float64(51.921388888888885), 'longitude': np.float64(4.506388888888889), 'generated_text': \"Welcome to the Oostzeedijk, a fascinating street in Rotterdam's Kralingen district.  This isn't just any street; it's a piece of Rotterdam's history, stretching approximately 1.2 kilometers.  Imagine its beginnings, part of the Schielands Hoge Zeedijk, a monumental dike built in the 12th century to protect the area from devastating floods. This impressive feat of engineering safeguarded the land between Gouda, Leiden, and Rotterdam for centuries.\\n\\nThe Oostzeedijk's architecture reflects its long history.  Many buildings date back to the period between 1890 and 1930. Of course, the bombing of Rotterdam in 1940 significantly altered the landscape, leaving its mark on the area.  Subsequent rebuilding efforts have shaped the street's current appearance, with some areas reflecting the post-war reconstruction and later developments like the striking De Admiraliteit skyscraper, a modern testament to the city’s maritime past.   \\n\\nAnother interesting building is the Industriegebouw, a significant industrial complex built in 1946. This building showcases the architectural style of its time.  Interestingly, the street also holds a significant industrial heritage: the site of the former Nieuwe Rotterdamsche Gasfabriek, built in 1852, once stood here.  This gasworks supplied the city with gas, and later an electricity plant operated on this site. Its presence contributes to a rich industrial past in the area.\\n\\nEven the street's functionality is worthy of note.  While the bulk of vehicular traffic is directed towards the Maasboulevard, the Oostzeedijk retains a calmer atmosphere. Its layout has been designed to accommodate trams and buses, with tram lines 1 and 11 running along it, connecting various parts of the city.  The relatively quiet setting and blend of old and new buildings give the street a distinctive character.  So, as you explore the Oostzeedijk, take a moment to appreciate its rich history and layered identity – a perfect blend of past and present.\\n\"}\n",
    "Location 3: Metadata: {'title': 'Up:Town', 'main_category': 'skyscraper', 'subcategories': 'unique architecture, city', 'latitude': np.float64(51.916575), 'longitude': np.float64(4.486402777777778), 'generated_text': \"Let's explore the Up:Town building, a striking addition to Rotterdam's skyline.  Standing at 107 meters tall, it's a significant structure on the Wijnhaveneiland.  Completed in late 2018,  this impressive building boasts 34 floors, housing a mix of rental and ownership apartments.  The top eight floors offer luxury apartments for purchase, while the rest are available for rent, providing a variety of living options within this modern high-rise.  Its design seamlessly blends residential space with the vibrant urban environment of Rotterdam. The building is a true testament to modern architecture, and contributes significantly to Rotterdam's ever-evolving cityscape.\"}\n",
    "\n",
    "Your summary:\n",
    "'''\n",
    "\n",
    "\n",
    "# Tokenize the input and move to the same device as the model\n",
    "input_ids = tokenizer(input_text, return_tensors='pt').input_ids.to(device)\n",
    "\n",
    "# Generate output\n",
    "with torch.no_grad():\n",
    "    output_ids = model.generate(input_ids, max_new_tokens=500)\n",
    "\n",
    "# Decode and print the output\n",
    "output_text = tokenizer.decode(output_ids[0], skip_special_tokens=True)\n",
    "print(output_text.split('Your summary:')[1])"
   ]
  },
  {
   "cell_type": "markdown",
   "metadata": {},
   "source": [
    "# API calls\n",
    "As the experiments with the small models ended up with unsatifsfactory results, I will be checking out models I can access through API calls.\n",
    "## Gemini 1.5 Flash"
   ]
  },
  {
   "cell_type": "code",
   "execution_count": 1,
   "metadata": {},
   "outputs": [
    {
     "name": "stderr",
     "output_type": "stream",
     "text": [
      "c:\\Users\\user1\\anaconda3\\envs\\RAGLLMs\\Lib\\site-packages\\tqdm\\auto.py:21: TqdmWarning: IProgress not found. Please update jupyter and ipywidgets. See https://ipywidgets.readthedocs.io/en/stable/user_install.html\n",
      "  from .autonotebook import tqdm as notebook_tqdm\n"
     ]
    }
   ],
   "source": [
    "import google.generativeai as genai"
   ]
  },
  {
   "cell_type": "code",
   "execution_count": 2,
   "metadata": {},
   "outputs": [],
   "source": [
    "token_file_path = 'API_tokens/gemini.txt'\n",
    "\n",
    "try:\n",
    "    with open(token_file_path, 'r') as file:\n",
    "        gemini_api_token = file.read().strip()\n",
    "except FileNotFoundError:\n",
    "    gemini_api_token = None\n",
    "    print(f\"Error: The token file '{token_file_path}' was not found.\")\n",
    "\n",
    "genai.configure(api_key=gemini_api_token)"
   ]
  },
  {
   "cell_type": "code",
   "execution_count": 9,
   "metadata": {},
   "outputs": [],
   "source": [
    "# Create the model\n",
    "generation_config = {\n",
    "  \"temperature\": 1,\n",
    "  \"top_p\": 0.95,\n",
    "  \"top_k\": 40,\n",
    "  \"max_output_tokens\": 1000,\n",
    "  \"response_mime_type\": \"text/plain\",\n",
    "}\n",
    "\n",
    "system_prompt = '''You are part of a RAG system in an app with audio guides for various locations. \n",
    "The user prompts for locations of certain type and a retriever gives information about them.\n",
    "Your task is to create a brief prose summary of the locations in the list, letting the user know what they can expect when following. You are given a list of locations with their metadata and part of their audioguide scripts.'''\n",
    "\n",
    "model = genai.GenerativeModel(\n",
    "  model_name=\"gemini-1.5-flash\",\n",
    "  generation_config=generation_config,\n",
    "  system_instruction=system_prompt)"
   ]
  },
  {
   "cell_type": "code",
   "execution_count": 11,
   "metadata": {},
   "outputs": [
    {
     "name": "stdout",
     "output_type": "stream",
     "text": [
      "response:\n",
      "GenerateContentResponse(\n",
      "    done=True,\n",
      "    iterator=None,\n",
      "    result=protos.GenerateContentResponse({\n",
      "      \"candidates\": [\n",
      "        {\n",
      "          \"content\": {\n",
      "            \"parts\": [\n",
      "              {\n",
      "                \"text\": \"This audio guide tour will take you on a journey through the heart of Rotterdam.  First, we'll explore Rotterdam Centrum, focusing on its unique architecture and the historical events that shaped its current form, from its early development to the devastating bombing of 1940 and subsequent reconstruction. Next, we'll travel to the Oostzeedijk, a street steeped in history, dating back to the 12th century, and showcasing architecture from various eras. Finally, we'll ascend to the modern Up:Town skyscraper, offering stunning city views and a glimpse into contemporary Rotterdam architecture.\\n\"\n",
      "              }\n",
      "            ],\n",
      "            \"role\": \"model\"\n",
      "          },\n",
      "          \"finish_reason\": \"STOP\",\n",
      "          \"avg_logprobs\": -0.24049061634501473\n",
      "        }\n",
      "      ],\n",
      "      \"usage_metadata\": {\n",
      "        \"prompt_token_count\": 797,\n",
      "        \"candidates_token_count\": 122,\n",
      "        \"total_token_count\": 919\n",
      "      },\n",
      "      \"model_version\": \"gemini-1.5-flash\"\n",
      "    }),\n",
      ")\n"
     ]
    }
   ],
   "source": [
    "prompt = '''\n",
    "Metadata: {'title': 'Rotterdam Centrum', 'main_category': 'city', 'subcategories': 'region, unique architecture', 'latitude': np.float64(51.91793055555555), 'longitude': np.float64(4.477872222222223), 'generated_text': \"Rotterdam Centrum: A City Reborn\\n\\nLet's explore the heart of Rotterdam, a city dramatically reshaped by its history.  Its current form is the result of several key events.  Firstly, the city's historical development, culminating in the creation of the Stadsdriehoek, a significant triangular area.  Secondly, the ambitious Water Project, including the construction of the Westersingel canal, significantly altered the city's landscape. Then, the devastating bombing of 1940, which destroyed most of the historic city center, fundamentally changed its fate. The subsequent reconstruction, guided by the Master Plan for Reconstruction, shaped the city's urban development until the 1970s.\"}\n",
    "Metadata: {'title': 'Oostzeedijk', 'main_category': 'street', 'subcategories': 'neighbourhood, history', 'latitude': np.float64(51.921388888888885), 'longitude': np.float64(4.506388888888889), 'generated_text': \"Welcome to the Oostzeedijk, a fascinating street in Rotterdam's Kralingen district.  This isn't just any street; it's a piece of Rotterdam's history, stretching approximately 1.2 kilometers.  Imagine its beginnings, part of the Schielands Hoge Zeedijk, a monumental dike built in the 12th century to protect the area from devastating floods. This impressive feat of engineering safeguarded the land between Gouda, Leiden, and Rotterdam for centuries.\\n\\nThe Oostzeedijk's architecture reflects its long history.  Many buildings date back to the period between 1890 and 1930. Of course, the bombing of Rotterdam in 1940 significantly altered the landscape, leaving its mark on the area.\"}\n",
    "Metadata: {'title': 'Up:Town', 'main_category': 'skyscraper', 'subcategories': 'unique architecture, city', 'latitude': np.float64(51.916575), 'longitude': np.float64(4.486402777777778), 'generated_text': \"Let's explore the Up:Town building, a striking addition to Rotterdam's skyline.  Standing at 107 meters tall, it's a significant structure on the Wijnhaveneiland.  Completed in late 2018,  this impressive building boasts 34 floors, housing a mix of rental and ownership apartments.  The top eight floors offer luxury apartments for purchase, while the rest are available for rent, providing a variety of living options within this modern high-rise.  Its design seamlessly blends residential space with the vibrant urban environment of Rotterdam. The building is a true testament to modern architecture, and contributes significantly to Rotterdam's ever-evolving cityscape.\"}\n",
    "'''\n",
    "\n",
    "response = model.generate_content(prompt)\n",
    "print(response)"
   ]
  },
  {
   "cell_type": "markdown",
   "metadata": {},
   "source": [
    "### AI checker viability"
   ]
  },
  {
   "cell_type": "code",
   "execution_count": 6,
   "metadata": {},
   "outputs": [],
   "source": [
    "# Create the model\n",
    "generation_config = {\n",
    "  \"temperature\": 1,\n",
    "  \"top_p\": 0.95,\n",
    "  \"top_k\": 40,\n",
    "  \"max_output_tokens\": 1000,\n",
    "  \"response_mime_type\": \"text/plain\",\n",
    "}\n",
    "\n",
    "system_prompt = '''You are part of a RAG system in an app with audio guides for various locations. \n",
    "You will recive the user query and a list of retrieved locations. Your task is to select 8 locations best matching the query.\n",
    "Output them as an array of titles e.g. [\"title1\",\"title2\"]'''\n",
    "\n",
    "model = genai.GenerativeModel(\n",
    "  model_name=\"gemini-1.5-flash\",\n",
    "  generation_config=generation_config,\n",
    "  system_instruction=system_prompt)"
   ]
  },
  {
   "cell_type": "code",
   "execution_count": 10,
   "metadata": {},
   "outputs": [
    {
     "name": "stdout",
     "output_type": "stream",
     "text": [
      "```json\n",
      "[\"Museum De Lakenhal\", \"Rembrandtbrug\", \"Rembrandtmonument\", \"Latijnse school (Leiden)\", \"Binnenstad zuid\", \"Rijndijkbuurt\", \"Jonge Rembrandt\", \"Rembrandthuisje\"]\n",
      "```\n",
      "\n"
     ]
    }
   ],
   "source": [
    "prompt = '''\n",
    "User query: \"What should Rembrandt lover see in Leiden?\"\n",
    "Locations:\n",
    "[{'title': 'Rembrandtbrug',\n",
    "   'main_category': 'bridge',\n",
    "   'generated_text': \"This bridge, a charming wooden structure, is a fascinating blend of old and new.  It's actually a modern reconstruction, built in 1983, meticulously r\",\n",
    "   'latitude': np.float64(52.161052777777776),\n",
    "   'longitude': np.float64(4.482216666666667)},\n",
    "  {'title': 'Museum De Lakenhal',\n",
    "   'main_category': 'museum',\n",
    "   'generated_text': \"Step into Museum De Lakenhal, Leiden's municipal art museum since 1874. Housed in a stunning 1640 building, formerly the city's cloth hall, the museum\",\n",
    "   'latitude': np.float64(52.16305555555555),\n",
    "   'longitude': np.float64(4.4875)},\n",
    "  {'title': 'Jonge Rembrandt',\n",
    "   'main_category': 'statue',\n",
    "   'generated_text': 'Did you know that a sculpture called *Young Rembrandt*, created by Wim van Hoorn, exists in multiple places around the world?  The original, made in 1',\n",
    "   'latitude': np.float64(52.36004166666667),\n",
    "   'longitude': np.float64(4.905511111111111)},\n",
    "  {'title': 'Rembrandthuis',\n",
    "   'main_category': 'museum',\n",
    "   'generated_text': 'Welcome to the Rembrandt House Museum, situated in the heart of Amsterdam.  This building, dating back to around 1606, served as the home and studio o',\n",
    "   'latitude': np.float64(52.36944444444445),\n",
    "   'longitude': np.float64(4.9013888888888895)},\n",
    "  {'title': 'Latijnse school (Leiden)',\n",
    "   'main_category': 'building',\n",
    "   'generated_text': 'Welcome to the former Latin School of Leiden, a truly remarkable building with a rich history.  Located on Lokhorststraat, this structure, dating back',\n",
    "   'latitude': np.float64(52.15839722222222),\n",
    "   'longitude': np.float64(4.487258333333333)},\n",
    "  {'title': 'Riekermolen',\n",
    "   'main_category': 'monument',\n",
    "   'generated_text': 'Welcome to the Riekermolen, a historic windmill situated along the Amstel River.  This charming windmill boasts a fascinating history, having original',\n",
    "   'latitude': np.float64(52.323888888888895),\n",
    "   'longitude': np.float64(4.893611111111111)},\n",
    "  {'title': 'Rijndijkbuurt',\n",
    "   'main_category': 'neighbourhood',\n",
    "   'generated_text': \"The Rijndijkbuurt neighborhood is a residential area located within the larger Roodenburgerdistrict of Leiden.  It's a fascinating area with a rich hi\",\n",
    "   'latitude': np.float64(52.154025),\n",
    "   'longitude': np.float64(4.508261111111112)},\n",
    "  {'title': 'Huis Van Gijn',\n",
    "   'main_category': 'museum',\n",
    "   'generated_text': \"Step into the Huis Van Gijn, a museum nestled in two monumental buildings in Dordrecht.  Imagine stepping back in time – that's exactly what this plac\",\n",
    "   'latitude': np.float64(51.81659166666666),\n",
    "   'longitude': np.float64(4.664113888888889)},\n",
    "  {'title': 'De Bijenkorf (Rotterdam)',\n",
    "   'main_category': 'building',\n",
    "   'generated_text': 'Welcome to the iconic De Bijenkorf department store in Rotterdam. This impressive building, one of the three largest in the chain, stands as a powerfu',\n",
    "   'latitude': np.float64(51.92027777777778),\n",
    "   'longitude': np.float64(4.478888888888889)},\n",
    "  {'title': 'Rembrandtmonument',\n",
    "   'main_category': 'statue',\n",
    "   'generated_text': \"This monument, erected in 1852, is a tribute to Rembrandt van Rijn, one of the Netherlands' most celebrated painters. The idea for a statue first emer\",\n",
    "   'latitude': np.float64(52.366),\n",
    "   'longitude': np.float64(4.896591666666666)},\n",
    "  {'title': 'Zonder titel (Jan van Goethem, Reinwardtstraat)',\n",
    "   'main_category': 'statue',\n",
    "   'generated_text': \"We're standing in front of a fascinating piece of public art, tucked away on the northern wall of Reinwardtstraat. This artwork, created by Jan van Go\",\n",
    "   'latitude': np.float64(52.36119166666667),\n",
    "   'longitude': np.float64(4.927544444444445)},\n",
    "  {'title': 'Binnenstad zuid',\n",
    "   'main_category': 'neighbourhood',\n",
    "   'generated_text': \"Welcome to Leiden's South Inner City, a vibrant heart of this historic Dutch city. This district, encompassing Pieterswijk, Academiewijk, and the west\",\n",
    "   'latitude': np.float64(52.15832777777778),\n",
    "   'longitude': np.float64(4.488652777777778)},\n",
    "  {'title': 'Rembrandthuisje',\n",
    "   'main_category': 'building',\n",
    "   'generated_text': \"This small building on Rembrandt Square may not look like much at first glance.  It's actually a transformer station, a rather unassuming structure fr\",\n",
    "   'latitude': np.float64(52.36602777777778),\n",
    "   'longitude': np.float64(4.896)},\n",
    "  {'title': 'Logement van Leiden',\n",
    "   'main_category': 'house',\n",
    "   'generated_text': 'Step into a piece of Dutch history here at Buitenhof 22. This building, known as the Logement van Leiden, has witnessed centuries of political intrigu',\n",
    "   'latitude': np.float64(52.07873333333334),\n",
    "   'longitude': np.float64(4.311269444444444)},\n",
    "  {'title': 'Het Dordts Patriciërshuis',\n",
    "   'main_category': 'museum',\n",
    "   'generated_text': 'Welcome to the Dordtse Patriciërshuis, a museum located in Dordrecht, in the province of South Holland.  Opened in 2011, this museum offers a fascinat',\n",
    "   'latitude': np.float64(51.81910833333334),\n",
    "   'longitude': np.float64(4.667233333333334)},\n",
    "  {'title': 'Heilig Hartbeeld (Reeuwijk-Dorp)',\n",
    "   'main_category': 'statue',\n",
    "   'generated_text': \"We're now standing before a striking statue in Reeuwijk-Dorp. This sandstone sculpture, depicting Christ the King, is a truly remarkable piece.  Creat\",\n",
    "   'latitude': np.float64(52.05526666666666),\n",
    "   'longitude': np.float64(4.692730555555555)}]\n",
    "'''\n",
    "#print(len(prompt))\n",
    "response = model.generate_content(prompt)\n",
    "print(response.text)"
   ]
  },
  {
   "cell_type": "markdown",
   "metadata": {},
   "source": [
    "### AI enhanced query viability"
   ]
  },
  {
   "cell_type": "code",
   "execution_count": 30,
   "metadata": {},
   "outputs": [],
   "source": [
    "# Create the model\n",
    "generation_config = {\n",
    "  \"temperature\": 1,\n",
    "  \"top_p\": 0.95,\n",
    "  \"top_k\": 40,\n",
    "  \"max_output_tokens\": 800,\n",
    "  \"response_mime_type\": \"text/plain\",\n",
    "}\n",
    "\n",
    "system_prompt = '''You are part of a simple RAG system in an app with audio guides for various locations. \n",
    "You will recive a user query for a list of locations. Your task is to add more related words to this query. The reriever is simple and could use more words for embeddings.\n",
    "Repeat the most important words (such as names or locations). For others use synonyms.\n",
    "Return only the enhanced query.'''\n",
    "\n",
    "model = genai.GenerativeModel(\n",
    "  model_name=\"gemini-1.5-flash\",\n",
    "  generation_config=generation_config,\n",
    "  system_instruction=system_prompt)"
   ]
  },
  {
   "cell_type": "code",
   "execution_count": 32,
   "metadata": {},
   "outputs": [
    {
     "name": "stdout",
     "output_type": "stream",
     "text": [
      "skyscrapers, high-rises, towers,  The Hague, Den Haag, Netherlands, architecture, modern buildings, cityscapes, urban landscapes,  high buildings,  tall structures,  The Hague skyscrapers\n",
      "\n"
     ]
    }
   ],
   "source": [
    "prompt = '''skyscrapers in the Hague'''\n",
    "#print(len(prompt))\n",
    "response = model.generate_content(prompt)\n",
    "print(response.text)"
   ]
  }
 ],
 "metadata": {
  "kernelspec": {
   "display_name": "RAGLLMs",
   "language": "python",
   "name": "python3"
  },
  "language_info": {
   "codemirror_mode": {
    "name": "ipython",
    "version": 3
   },
   "file_extension": ".py",
   "mimetype": "text/x-python",
   "name": "python",
   "nbconvert_exporter": "python",
   "pygments_lexer": "ipython3",
   "version": "3.11.11"
  }
 },
 "nbformat": 4,
 "nbformat_minor": 2
}
